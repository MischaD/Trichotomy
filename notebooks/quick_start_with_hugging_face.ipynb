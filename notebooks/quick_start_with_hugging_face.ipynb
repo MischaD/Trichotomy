{
  "cells": [
    {
      "cell_type": "markdown",
      "metadata": {
        "id": "kjF6yQryA7mo"
      },
      "source": [
        "~~~\n",
        "Copyright 2024 Google LLC\n",
        "\n",
        "Licensed under the Apache License, Version 2.0 (the \"License\");\n",
        "you may not use this file except in compliance with the License.\n",
        "You may obtain a copy of the License at\n",
        "\n",
        "    https://www.apache.org/licenses/LICENSE-2.0\n",
        "\n",
        "Unless required by applicable law or agreed to in writing, software\n",
        "distributed under the License is distributed on an \"AS IS\" BASIS,\n",
        "WITHOUT WARRANTIES OR CONDITIONS OF ANY KIND, either express or implied.\n",
        "See the License for the specific language governing permissions and\n",
        "limitations under the License.\n",
        "~~~\n",
        "<table><tbody><tr>\n",
        "  <td style=\"text-align: center\">\n",
        "    <a href=\"https://colab.research.google.com/github/google-health/cxr-foundation/blob/master/notebooks/quick_start_with_hugging_face.ipynb\">\n",
        "      <img alt=\"Google Colab logo\" src=\"https://www.tensorflow.org/images/colab_logo_32px.png\" width=\"32px\"><br> Run in Google Colab\n",
        "    </a>\n",
        "  </td>\n",
        "  <td style=\"text-align: center\">\n",
        "    <a href=\"https://github.com/google-health/cxr-foundation/blob/master/notebooks/quick_start_with_hugging_face.ipynb\">\n",
        "      <img alt=\"GitHub logo\" src=\"https://cloud.google.com/ml-engine/images/github-logo-32px.png\" width=\"32px\"><br> View on GitHub\n",
        "    </a>\n",
        "  </td>\n",
        "  <td style=\"text-align: center\">\n",
        "    <a href=\"https://huggingface.co/google/cxr-foundation\">\n",
        "      <img alt=\"HuggingFace logo\" src=\"https://huggingface.co/front/assets/huggingface_logo-noborder.svg\" width=\"32px\"><br> View on HuggingFace\n",
        "    </a>\n",
        "  </td>\n",
        "</tr></tbody></table>\n",
        "\n",
        "# Quick start with Hugging Face\n",
        "This Colab notebook provides a basic demo of using Chest X-ray (CXR) Foundation. CXR Foundation is an embeddings models that generates a machine learning representations known as embeddings, from chest X-ray images and/or chest X-ray related text. These embeddings can be used to develop custom models for CXR use-cases with less data and compute compared to traditional model development methods. Learn more about embeddings and their benefits at this [page](https://developers.google.com/health-ai-developer-foundations/cxr-foundation)."
      ]
    },
    {
      "cell_type": "code",
      "execution_count": null,
      "metadata": {
        "id": "_I07AumeA6Bn"
      },
      "outputs": [
        {
          "ename": "",
          "evalue": "",
          "output_type": "error",
          "traceback": [
            "\u001b[1;31mFailed to start the Kernel 'cxr_found (Python 3.9.20)'. \n",
            "\u001b[1;31mView Jupyter <a href='command:jupyter.viewOutput'>log</a> for further details. Unknown system error -122: Unknown system error -122, close"
          ]
        }
      ],
      "source": [
        " @title Authenticate with HuggingFace, skip if you have a HF_TOKEN secret\n",
        "\n",
        "# Authenticate user for HuggingFace if needed. Enter token below if requested.\n",
        "from huggingface_hub.utils import HfFolder\n",
        "from huggingface_hub import notebook_login\n",
        "\n",
        "if HfFolder.get_token() is None:\n",
        "    from huggingface_hub import notebook_login\n",
        "    notebook_login()"
      ]
    },
    {
      "cell_type": "code",
      "execution_count": null,
      "metadata": {
        "cellView": "form",
        "id": "k0eVPU0GbKC_"
      },
      "outputs": [
        {
          "ename": "",
          "evalue": "",
          "output_type": "error",
          "traceback": [
            "\u001b[1;31mFailed to start the Kernel 'cxr_found (Python 3.9.20)'. \n",
            "\u001b[1;31mView Jupyter <a href='command:jupyter.viewOutput'>log</a> for further details. Unknown system error -122: Unknown system error -122, close"
          ]
        }
      ],
      "source": [
        "# @title Helper Functions to prepare inputs: text & image TF Example\n",
        "#!pip install tensorflow-text==2.17 pypng 2>&1 1>/dev/null\n",
        "import io\n",
        "import png\n",
        "import tensorflow as tf\n",
        "import tensorflow_text as tf_text\n",
        "import tensorflow_hub as tf_hub\n",
        "import numpy as np\n",
        "\n",
        "# Helper function for tokenizing text input\n",
        "def bert_tokenize(text):\n",
        "    \"\"\"Tokenizes input text and returns token IDs and padding masks.\"\"\"\n",
        "    preprocessor = tf_hub.KerasLayer(\n",
        "        \"https://tfhub.dev/tensorflow/bert_en_uncased_preprocess/3\")\n",
        "    out = preprocessor(tf.constant([text.lower()]))\n",
        "    ids = out['input_word_ids'].numpy().astype(np.int32)\n",
        "    masks = out['input_mask'].numpy().astype(np.float32)\n",
        "    paddings = 1.0 - masks\n",
        "    end_token_idx = ids == 102\n",
        "    ids[end_token_idx] = 0\n",
        "    paddings[end_token_idx] = 1.0\n",
        "    ids = np.expand_dims(ids, axis=1)\n",
        "    paddings = np.expand_dims(paddings, axis=1)\n",
        "    assert ids.shape == (1, 1, 128)\n",
        "    assert paddings.shape == (1, 1, 128)\n",
        "    return ids, paddings\n",
        "\n",
        "# Helper function for processing image data\n",
        "def png_to_tfexample(image_array: np.ndarray) -> tf.train.Example:\n",
        "    \"\"\"Creates a tf.train.Example from a NumPy array.\"\"\"\n",
        "    # Convert the image to float32 and shift the minimum value to zero\n",
        "    image = image_array.astype(np.float32)\n",
        "    image -= image.min()\n",
        "\n",
        "    if image_array.dtype == np.uint8:\n",
        "        # For uint8 images, no rescaling is needed\n",
        "        pixel_array = image.astype(np.uint8)\n",
        "        bitdepth = 8\n",
        "    else:\n",
        "        # For other data types, scale image to use the full 16-bit range\n",
        "        max_val = image.max()\n",
        "        if max_val > 0:\n",
        "            image *= 65535 / max_val  # Scale to 16-bit range\n",
        "        pixel_array = image.astype(np.uint16)\n",
        "        bitdepth = 16\n",
        "\n",
        "    # Ensure the array is 2-D (grayscale image)\n",
        "    if pixel_array.ndim != 2:\n",
        "        raise ValueError(f'Array must be 2-D. Actual dimensions: {pixel_array.ndim}')\n",
        "\n",
        "    # Encode the array as a PNG image\n",
        "    output = io.BytesIO()\n",
        "    png.Writer(\n",
        "        width=pixel_array.shape[1],\n",
        "        height=pixel_array.shape[0],\n",
        "        greyscale=True,\n",
        "        bitdepth=bitdepth\n",
        "    ).write(output, pixel_array.tolist())\n",
        "    png_bytes = output.getvalue()\n",
        "\n",
        "    # Create a tf.train.Example and assign the features\n",
        "    example = tf.train.Example()\n",
        "    features = example.features.feature\n",
        "    features['image/encoded'].bytes_list.value.append(png_bytes)\n",
        "    features['image/format'].bytes_list.value.append(b'png')\n",
        "\n",
        "    return example"
      ]
    },
    {
      "cell_type": "markdown",
      "metadata": {
        "id": "XOvvGVqfWzEW"
      },
      "source": [
        "# Compute Embeddings"
      ]
    },
    {
      "cell_type": "code",
      "execution_count": null,
      "metadata": {
        "colab": {
          "base_uri": "https://localhost:8080/",
          "height": 317
        },
        "id": "HnaZfrQuUo34",
        "outputId": "581cd1d1-1ec0-45db-eb7a-f6f075353766"
      },
      "outputs": [
        {
          "ename": "",
          "evalue": "",
          "output_type": "error",
          "traceback": [
            "\u001b[1;31mFailed to start the Kernel 'cxr_found (Python 3.9.20)'. \n",
            "\u001b[1;31mView Jupyter <a href='command:jupyter.viewOutput'>log</a> for further details. Unknown system error -122: Unknown system error -122, close"
          ]
        }
      ],
      "source": [
        "# @title Fetch Sample Image\n",
        "from PIL import Image\n",
        "from IPython.display import Image as IPImage, display\n",
        "# Image attribution: Stillwaterising, CC0, via Wikimedia Commons\n",
        "!wget -nc -q https://upload.wikimedia.org/wikipedia/commons/c/c8/Chest_Xray_PA_3-8-2010.png\n",
        "display(IPImage(filename=\"Chest_Xray_PA_3-8-2010.png\", height=100))\n",
        "img = Image.open(\"Chest_Xray_PA_3-8-2010.png\").convert('L')  # Convert to grayscale"
      ]
    },
    {
      "cell_type": "code",
      "execution_count": null,
      "metadata": {
        "colab": {
          "base_uri": "https://localhost:8080/",
          "height": 1000,
          "referenced_widgets": [
            "609505ebc613470a851c978ec3ddc5f6",
            "45791b4d0f474af9bf057b0c77b1ab2b",
            "1b5851ccca9c4591b6311fb059fb663f",
            "7e90b16ad47541d5993e0dd369192126",
            "5952f540bd97409da42b68fd68d81685",
            "1fdc9f857cca4edb8180bdbe002e56ae",
            "b85c67df73894403b68ec1f3b9e5bfe1",
            "54dd57db5bee41fab3774b6ddb9f06f0",
            "57fa30648c6c44dbade52741ea0d7a43",
            "c888c386a0874265a3e4141b1b8e299f",
            "9e685792fb2641e99d3d2904523acdc3",
            "0fd0088132ff4a55b4cade9200d3483f",
            "287ea4f0943649c59794cfbc291b3e53",
            "12769b20b8404a20ab99f804ae1aecd8",
            "76a43d18b6c74f299e674c19dd1f515b",
            "b54af01350034c4fb031496adc653b65",
            "4b28b85971c84e29b9413e32c7b67fc8",
            "1f00d9da29374254b1390fcd0fce6415",
            "14961092ccb341dd93a940f492b7b626",
            "5a252f650c7940f2ab5f481217e192c7",
            "319b62eb814e4c7898a11ecc3b8e80b8",
            "6980dc90e88d4be78584b565f0271e41",
            "100ce6bd28d4482985616a96c5b96dd6",
            "233612b362d447b3842b5a1ba25fd1c2",
            "3cc1780d55b24b1391ff11ef64c16c5f",
            "f83b23d0ed4d45278a028eab9f53612c",
            "193dde0dd82546739c12e3b5674e8ccd",
            "b30fd781d61d442db80a2fb02153ba88",
            "6bb773a2e9524f478d95ae9c4c4652db",
            "14039533606541e98311559f191f5af3",
            "a30f0d4e9965453fbdb33549f164387e",
            "51e28c04fbd84e0d8b78f49c1f1e2d44",
            "8ecee4a1f9a8497489108a5cde2ca0ee",
            "36e9b043b59846dc81d400d0824be3b9",
            "43a7e5be303342eb961445335e1fb508",
            "0a29ee54a7334f1b9ea270350aa92cd4",
            "ceb4d06f7ca843a2be9ec11b66e2a42a",
            "6022c91acfef40d591b0b4fc778eda1f",
            "2ba2634ba7fc47f2b4727b2598f1ec66",
            "7cb4cae730a6424ba0496064c587be01",
            "38f7cb7864924671a6dc441c412192de",
            "ec2d67aa7f2f4d048e294e5ea6bcbcda",
            "b258fcfa35d140aea1705feeee320c09",
            "a035850f2048438193ed13b53635821a",
            "ebc85d249e2f43f8b0d2b19e6733909c",
            "6fefb74d53b44b6cb057edb53b1d14cb",
            "8f503b0110c44c68be913be3aeb60a83",
            "e9a344a052aa4c7fb54d57069f643127",
            "26b3652898184cbb86ff48f045977183",
            "d321e5672b5a447f8f21422798e05eb5",
            "2da3bd58c2ff41008a07d04af728bd5b",
            "419c369befd94effbc8ce4da39b3248f",
            "49c2e9467ae44cf98bbd6fe2b57fb7ea",
            "98ff4359b1584fcc9922e95651e2205c",
            "c8186a208ae94c71bad2bf400e285cff",
            "9f5bff5a8f8e4fc1867320597a349dd4",
            "6c31f3217a4b4793b66209d2253d16a8",
            "aa924480c488419083f86464cc8263eb",
            "2723901cc9d74afd8ccb6dda486ccd92",
            "c81696217880483d9979e6ef7e1feb6c",
            "4230980d48614c2a961b5cc7640236cd",
            "fb67727b1ead4d48891dff4d7ad6cb78",
            "310999c47e8f4def913aae14489197a8",
            "385053e29a804ff99579f15619f421ab",
            "063ee8e081a6413bae5feadb4594decd",
            "3f0e16bfee9a401aa9f59e9645dc6b4b",
            "937736c5ca504a6ca6461ca37e5fad12",
            "f14654e02ea0490186aa3990cafd2f0b",
            "495081e7464242158eaa9f22ed058d85",
            "6945eec3a2b540ad81965adbc94760ff",
            "928d257eb45b4fe3b5f0200f961b990c",
            "793d2e77f63447c9b68854d0c9e808fb",
            "947bf3596b8b405b89f46b6fdf9e1bb8",
            "cfd9c5ee665546fbb0e709d5eecbce58",
            "436a77f83fc54b44b035df9397b9f2b2",
            "18406d18f6be4b2eb95ab657640baf22",
            "45402cdbbf434ae09b28263852fa8286",
            "955776ff18cf44aaad53252a3cb18709",
            "f0f5fb49568c40eb905794ffc5a22169",
            "9207414307e84809bf08eb68cdd3492a",
            "45a72102e92e4a6191e6c3f8af4d2769",
            "ba1295a4c1c646019c8af697c5e444e0",
            "5bb1e42e694048f6873489ef8130844b",
            "8410e01ba51a43b5bcdc97f2ae72cede",
            "282e58a8fa674b259e5832b4f2cdcdcc",
            "eff9b13fb067454dbab5aaacf626999d",
            "4e3d1df2c58143a3bdeed6fd6cf763d5",
            "7283a4c1e0df495e837dfc4d1212998a",
            "238c0b411beb4ac8bebae801287606b6",
            "dddc7bbe087e4e2bb267f044a1e03024",
            "585317a2806d43ce81c2f7a19f8de2f0",
            "1456b6be9f664dba9bf9f87eb23fa14e",
            "111fdfeb3f7b4e039ec79bc132195922",
            "d164381b3d0f461ca7ed16e146e36b09",
            "ff7825c92cea4a268c03664098da5d45",
            "92bc164a847f4f95afccee598e50254b",
            "2764173a7d6149ee8dfcec52e9c20ac8",
            "fcf43114ecfe4641a9a7bc5adee88e51",
            "3ac6a46d357e4061b133f2161a39479b"
          ]
        },
        "id": "EeB_Er_Ccyf-",
        "outputId": "0b8a0b8e-e5ab-4411-a380-da8a94c39f67"
      },
      "outputs": [
        {
          "ename": "",
          "evalue": "",
          "output_type": "error",
          "traceback": [
            "\u001b[1;31mFailed to start the Kernel 'cxr_found (Python 3.9.20)'. \n",
            "\u001b[1;31mView Jupyter <a href='command:jupyter.viewOutput'>log</a> for further details. Unknown system error -122: Unknown system error -122, close"
          ]
        }
      ],
      "source": [
        "# @title Invoke Model with Image\n",
        "import numpy as np\n",
        "import matplotlib.pyplot as plt\n",
        "\n",
        "# Download the model repository files\n",
        "from huggingface_hub import snapshot_download\n",
        "snapshot_download(repo_id=\"google/cxr-foundation\",local_dir='./content/hf',\n",
        "                  allow_patterns=['elixr-c-v2-pooled/*', 'pax-elixr-b-text/*'])\n",
        "\n",
        "# Step 1 - ELIXR C (image to elixr C embeddings)\n",
        "serialized_img_tf_example = png_to_tfexample(np.array(img)).SerializeToString()\n",
        "\n",
        "if 'elixrc_model' not in locals():\n",
        "  elixrc_model = tf.saved_model.load('/content/hf/elixr-c-v2-pooled')\n",
        "  elixrc_infer = elixrc_model.signatures['serving_default']\n",
        "\n",
        "elixrc_output = elixrc_infer(input_example=tf.constant([serialized_img_tf_example]))\n",
        "elixrc_embedding = elixrc_output['feature_maps_0'].numpy()\n",
        "\n",
        "print(\"ELIXR-C - interim embedding shape: \", elixrc_embedding.shape)\n",
        "\n",
        "# Step 2 - Invoke QFormer with Elixr-C embeddings\n",
        "# Initialize text inputs with zeros\n",
        "qformer_input = {\n",
        "    'image_feature': elixrc_embedding.tolist(),\n",
        "    'ids': np.zeros((1, 1, 128), dtype=np.int32).tolist(),\n",
        "    'paddings':np.zeros((1, 1, 128), dtype=np.float32).tolist(),\n",
        "}\n",
        "\n",
        "if 'qformer_model' not in locals():\n",
        "  qformer_model = tf.saved_model.load(\"/content/hf/pax-elixr-b-text\")\n",
        "\n",
        "qformer_output = qformer_model.signatures['serving_default'](**qformer_input)\n",
        "elixrb_embeddings = qformer_output['all_contrastive_img_emb']\n",
        "\n",
        "print(\"ELIXR-B - embedding shape: \", elixrb_embeddings.shape)\n",
        "\n",
        "# Plot output\n",
        "plt.imshow(elixrb_embeddings[0], cmap='gray')\n",
        "plt.colorbar()  # Show a colorbar to understand the value distribution\n",
        "plt.title('Visualization of ELIXR-B embedding output')\n",
        "plt.show()\n"
      ]
    },
    {
      "cell_type": "code",
      "execution_count": null,
      "metadata": {
        "id": "oLH-lt6GYzON"
      },
      "outputs": [
        {
          "ename": "",
          "evalue": "",
          "output_type": "error",
          "traceback": [
            "\u001b[1;31mFailed to start the Kernel 'cxr_found (Python 3.9.20)'. \n",
            "\u001b[1;31mView Jupyter <a href='command:jupyter.viewOutput'>log</a> for further details. Unknown system error -122: Unknown system error -122, close"
          ]
        }
      ],
      "source": [
        "# @title Input Text Query\n",
        "TEXT_QUERY = \"Airspace opacity\" # @param {type:\"string\"}"
      ]
    },
    {
      "cell_type": "code",
      "execution_count": null,
      "metadata": {
        "id": "xs3srDBUXTsf"
      },
      "outputs": [
        {
          "ename": "",
          "evalue": "",
          "output_type": "error",
          "traceback": [
            "\u001b[1;31mFailed to start the Kernel 'cxr_found (Python 3.9.20)'. \n",
            "\u001b[1;31mView Jupyter <a href='command:jupyter.viewOutput'>log</a> for further details. Unknown system error -122: Unknown system error -122, close"
          ]
        }
      ],
      "source": [
        "# @title Invoke Model with Text\n",
        "import numpy as np\n",
        "\n",
        "# Download the model repository files\n",
        "from huggingface_hub import snapshot_download\n",
        "snapshot_download(repo_id=\"google/cxr-foundation\",local_dir='/content/hf',\n",
        "                  allow_patterns=['elixr-c-v2-pooled/*', 'pax-elixr-b-text/*'])\n",
        "\n",
        "# Run QFormer with text only.\n",
        "# Initialize image input with zeros\n",
        "tokens, paddings = bert_tokenize(TEXT_QUERY)\n",
        "qformer_input = {\n",
        "    'image_feature': np.zeros([1, 8, 8, 1376], dtype=np.float32).tolist(),\n",
        "    'ids': tokens.tolist(),\n",
        "    'paddings': paddings.tolist(),\n",
        "}\n",
        "\n",
        "if 'qformer_model' not in locals():\n",
        "  qformer_model = tf.saved_model.load(\"/content/hf/pax-elixr-b-text\")\n",
        "\n",
        "qformer_output = qformer_model.signatures['serving_default'](**qformer_input)\n",
        "text_embeddings = qformer_output['contrastive_txt_emb']\n",
        "\n",
        "print(\"Text Embedding shape: \", text_embeddings.shape)\n",
        "print(\"First 5 tokens: \", text_embeddings[0][0:5])\n"
      ]
    },
    {
      "cell_type": "markdown",
      "metadata": {
        "id": "pHBM7cs5Rsj6"
      },
      "source": [
        "# Next steps\n",
        "\n",
        "Explore the other [notebooks](https://github.com/google-health/cxr-foundation/blob/master/notebooks) to learn what else you can do with the model."
      ]
    }
  ],
  "metadata": {
    "colab": {},
    "kernelspec": {
      "display_name": "Python 3",
      "name": "python3"
    },
    "language_info": {
      "codemirror_mode": {
        "name": "ipython",
        "version": 3
      },
      "file_extension": ".py",
      "mimetype": "text/x-python",
      "name": "python",
      "nbconvert_exporter": "python",
      "pygments_lexer": "ipython3",
      "version": "3.9.20"
    }
  },
  "nbformat": 4,
  "nbformat_minor": 0
}
