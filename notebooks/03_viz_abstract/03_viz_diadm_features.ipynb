{
 "cells": [
  {
   "cell_type": "markdown",
   "metadata": {},
   "source": [
    "# Evaluate DiADM for memorization  \n",
    "\n",
    "## Overview \n",
    "\n"
   ]
  },
  {
   "cell_type": "code",
   "execution_count": 1,
   "metadata": {},
   "outputs": [],
   "source": [
    "import sys\n",
    "from pathlib import Path\n",
    "# Add the directory containing edm2/generate.py to the Python path\n",
    "script_dir = Path(\"/vol/ideadata/ed52egek/pycharm/trichotomy\").resolve()  # Replace with the actual path\n",
    "sys.path.append(str(script_dir))\n",
    "\n",
    "from src.dse import DiADMSampleEvaluator\n",
    "from src.diffusion.generation import get_image_generation_model, ImageIterableDSE\n"
   ]
  },
  {
   "cell_type": "code",
   "execution_count": 31,
   "metadata": {},
   "outputs": [
    {
     "name": "stderr",
     "output_type": "stream",
     "text": [
      "/vol/ideadata/ed52egek/miniconda/envs/trichotomy/lib/python3.12/site-packages/torchvision/models/_utils.py:208: UserWarning: The parameter 'pretrained' is deprecated since 0.13 and may be removed in the future, please use 'weights' instead.\n",
      "  warnings.warn(\n",
      "/vol/ideadata/ed52egek/miniconda/envs/trichotomy/lib/python3.12/site-packages/torchvision/models/_utils.py:223: UserWarning: Arguments other than a weight enum or `None` for 'weights' are deprecated since 0.13 and may be removed in the future. The current behavior is equivalent to passing `weights=DenseNet121_Weights.IMAGENET1K_V1`. You can also use `weights=DenseNet121_Weights.DEFAULT` to get the most up-to-date weights.\n",
      "  warnings.warn(msg)\n",
      "/vol/ideadata/ed52egek/pycharm/trichotomy/src/dse.py:92: FutureWarning: You are using `torch.load` with `weights_only=False` (the current default value), which uses the default pickle module implicitly. It is possible to construct malicious pickle data which will execute arbitrary code during unpickling (See https://github.com/pytorch/pytorch/blob/main/SECURITY.md#untrusted-models for more details). In a future release, the default value for `weights_only` will be flipped to `True`. This limits the functions that could be executed during unpickling. Arbitrary objects will no longer be allowed to be loaded via this mode unless they are explicitly allowlisted by the user via `torch.serialization.add_safe_globals`. We recommend you start setting `weights_only=True` for any use case where you don't have full control of the loaded file. Please open an issue on GitHub for any issues related to this experimental feature.\n",
      "  modelCheckpoint = torch.load(model_path)\n"
     ]
    }
   ],
   "source": [
    "from src.dse import get_classification_model, DEFAULT_CLF_PATH\n",
    "from PIL import Image\n",
    "clf = get_classification_model(DEFAULT_CLF_PATH)\n",
    "\n",
    "image_r_1 = Image.open(\"/vol/ideadata/ed52egek/data/chestxray14/images/00007303_000.png\").convert('RGB')  \n",
    "image_s_1 = Image.open(\"./00000001_000_1.png\").convert('RGB')  \n",
    "image_s_2 = Image.open(\"./00000001_000_2nd.png\").convert('RGB')  \n"
   ]
  },
  {
   "cell_type": "code",
   "execution_count": 32,
   "metadata": {},
   "outputs": [
    {
     "data": {
      "image/png": "[encoded data removed]",
      "text/plain": [
       "<Figure size 500x300 with 1 Axes>"
      ]
     },
     "metadata": {},
     "output_type": "display_data"
    },
    {
     "data": {
      "text/plain": [
       "<Figure size 600x300 with 0 Axes>"
      ]
     },
     "metadata": {},
     "output_type": "display_data"
    },
    {
     "data": {
      "image/png": "[encoded data removed]",
      "text/plain": [
       "<Figure size 500x300 with 1 Axes>"
      ]
     },
     "metadata": {},
     "output_type": "display_data"
    },
    {
     "data": {
      "text/plain": [
       "<Figure size 600x300 with 0 Axes>"
      ]
     },
     "metadata": {},
     "output_type": "display_data"
    },
    {
     "data": {
      "image/png": "[encoded data removed]",
      "text/plain": [
       "<Figure size 500x300 with 1 Axes>"
      ]
     },
     "metadata": {},
     "output_type": "display_data"
    },
    {
     "data": {
      "text/plain": [
       "<Figure size 600x300 with 0 Axes>"
      ]
     },
     "metadata": {},
     "output_type": "display_data"
    }
   ],
   "source": [
    "from src.utils import update_matplotlib_font\n",
    "import seaborn as sns\n",
    "import matplotlib.pyplot as plt\n",
    "\n",
    "update_matplotlib_font()\n",
    "\n",
    "\n",
    "for img, title in zip([image_r_1, image_s_1, image_s_2], [\"real\", \"snth1\", \"snth2\"]): \n",
    "    pred_, f_clf = clf.lazy_foward(img)\n",
    "    fig, ax =  plt.subplots(figsize=(5, 3))\n",
    "\n",
    "    f_clf_viz = f_clf[f_clf > 0.1][:18]\n",
    "\n",
    "    # Normalize heights for colormap\n",
    "    colors = plt.cm.RdPu((f_clf_viz - f_clf_viz.min()) / (f_clf_viz.max() - f_clf_viz.min()))\n",
    "\n",
    "    fig, ax = plt.subplots(figsize=(6, 3))\n",
    "    ax.bar(range(len(f_clf_viz)), f_clf_viz, color=colors, width=0.8,  edgecolor=\".5\",)\n",
    "\n",
    "    ax.set_xticks([])\n",
    "    ax.set_yticks([])\n",
    "    ax.spines['top'].set_visible(False)\n",
    "    ax.spines['right'].set_visible(False)\n",
    "    ax.spines['left'].set_visible(False)\n",
    "    #ax.spines['bottom'].set_visible(False)\n",
    "\n",
    "    plt.tight_layout()\n",
    "    plt.savefig(f\"features_{title}_r.pdf\")\n",
    "    plt.clf()\n"
   ]
  },
  {
   "cell_type": "code",
   "execution_count": 21,
   "metadata": {},
   "outputs": [
    {
     "data": {
      "image/png": "[encoded data removed]",
      "text/plain": [
       "<Figure size 600x300 with 1 Axes>"
      ]
     },
     "metadata": {},
     "output_type": "display_data"
    }
   ],
   "source": []
  }
 ],
 "metadata": {
  "kernelspec": {
   "display_name": "trichotomy",
   "language": "python",
   "name": "python3"
  },
  "language_info": {
   "codemirror_mode": {
    "name": "ipython",
    "version": 3
   },
   "file_extension": ".py",
   "mimetype": "text/x-python",
   "name": "python",
   "nbconvert_exporter": "python",
   "pygments_lexer": "ipython3",
   "version": "3.12.8"
  }
 },
 "nbformat": 4,
 "nbformat_minor": 2
}
