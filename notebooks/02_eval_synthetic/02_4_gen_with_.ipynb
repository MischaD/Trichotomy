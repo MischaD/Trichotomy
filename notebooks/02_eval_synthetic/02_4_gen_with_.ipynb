{
 "cells": [
  {
   "cell_type": "markdown",
   "metadata": {},
   "source": [
    "# Evaluate Trichotomy\n",
    "\n",
    "## Overview \n",
    "\n",
    "Notebook that provides code to evaluate trained diffusion models. Needs image generation model, privacy model, cxr-classification model. "
   ]
  },
  {
   "cell_type": "code",
   "execution_count": 43,
   "metadata": {},
   "outputs": [],
   "source": [
    "%run ../basesetup.ipynb \n",
    "# load basic functions such as generative model initializer, classification model, privacy mdoel"
   ]
  },
  {
   "cell_type": "code",
   "execution_count": 44,
   "metadata": {},
   "outputs": [],
   "source": [
    "n_per_index = 4 # == batch_size and factor that sampling takes longer"
   ]
  },
  {
   "cell_type": "code",
   "execution_count": 45,
   "metadata": {},
   "outputs": [
    {
     "name": "stdout",
     "output_type": "stream",
     "text": [
      "['No Finding', 'Atelectasis', 'Cardiomegaly', 'Consolidation', 'Edema', 'Pleural Effusion', 'Pneumonia', 'Pneumothorax']\n"
     ]
    }
   ],
   "source": [
    "from pprint import pprint\n",
    "kwargs = {\n",
    "    \"DiADM\":{\n",
    "        \"autoguidance\":True,\n",
    "        \"guidance\":1.4,\n",
    "        \"model_kwargs\":{\n",
    "            \"model_weights\":\"/vol/ideadata/ed52egek/pycharm/trichotomy/importantmodels/cxr8_diffusionmodels/baseline-runs/cxr8_pseudocond/training-state-0050331.pt\",\n",
    "            \"gmodel_weights\":\"/vol/ideadata/ed52egek/pycharm/trichotomy/importantmodels/cxr8_diffusionmodels/baseline-runs/cxr8_uncond/training-state-0008388.pt\",\n",
    "            \"path_net\":\"/vol/ideadata/ed52egek/pycharm/trichotomy/importantmodels/cxr8_diffusionmodels/baseline-runs/cxr8_pseudocond/network-snapshot-0050331-0.100.pkl\",\n",
    "            \"path_gnet\":\"/vol/ideadata/ed52egek/pycharm/trichotomy/importantmodels/cxr8_diffusionmodels/baseline-runs/cxr8_uncond/network-snapshot-0008388-0.050.pkl\",\n",
    "        },\n",
    "        \"ds_kwargs\":{\n",
    "            \"cond_mode\":\"pseudocond\", # pseudocond, cond\n",
    "            \"basedir\":\"/vol/idea_ramses/ed52egek/data/trichotomy\",\n",
    "            \"basedir_images\":\"/vol/ideadata/ed52egek/data/chestxray14\"\n",
    "        }\n",
    "    }\n",
    "}\n",
    "\n",
    "\n",
    "print(class_labels)"
   ]
  },
  {
   "cell_type": "markdown",
   "metadata": {},
   "source": [
    "## Sample and evaluate samples at the same time "
   ]
  },
  {
   "cell_type": "code",
   "execution_count": 46,
   "metadata": {},
   "outputs": [
    {
     "name": "stdout",
     "output_type": "stream",
     "text": [
      "================================================================================\n",
      "Model kwargs:\n",
      "{'gmodel_weights': '/vol/ideadata/ed52egek/pycharm/trichotomy/importantmodels/cxr8_diffusionmodels/baseline-runs/cxr8_uncond/training-state-0008388.pt',\n",
      " 'model_weights': '/vol/ideadata/ed52egek/pycharm/trichotomy/importantmodels/cxr8_diffusionmodels/baseline-runs/cxr8_pseudocond/training-state-0050331.pt',\n",
      " 'name': 'DiADM',\n",
      " 'path_gnet': '/vol/ideadata/ed52egek/pycharm/trichotomy/importantmodels/cxr8_diffusionmodels/baseline-runs/cxr8_uncond/network-snapshot-0008388-0.050.pkl',\n",
      " 'path_net': '/vol/ideadata/ed52egek/pycharm/trichotomy/importantmodels/cxr8_diffusionmodels/baseline-runs/cxr8_pseudocond/network-snapshot-0050331-0.100.pkl'}\n",
      "Dataset kwargs:\n",
      "{'basedir': '/vol/idea_ramses/ed52egek/data/trichotomy',\n",
      " 'basedir_images': '/vol/ideadata/ed52egek/data/chestxray14',\n",
      " 'cond_mode': 'pseudocond'}\n",
      "================================================================================\n",
      "Loading network from /vol/ideadata/ed52egek/pycharm/trichotomy/importantmodels/cxr8_diffusionmodels/baseline-runs/cxr8_pseudocond/network-snapshot-0050331-0.100.pkl ...\n"
     ]
    },
    {
     "name": "stderr",
     "output_type": "stream",
     "text": [
      "/tmp/ipykernel_3058147/2998257040.py:147: FutureWarning: You are using `torch.load` with `weights_only=False` (the current default value), which uses the default pickle module implicitly. It is possible to construct malicious pickle data which will execute arbitrary code during unpickling (See https://github.com/pytorch/pytorch/blob/main/SECURITY.md#untrusted-models for more details). In a future release, the default value for `weights_only` will be flipped to `True`. This limits the functions that could be executed during unpickling. Arbitrary objects will no longer be allowed to be loaded via this mode unless they are explicitly allowlisted by the user via `torch.serialization.add_safe_globals`. We recommend you start setting `weights_only=True` for any use case where you don't have full control of the loaded file. Please open an issue on GitHub for any issues related to this experimental feature.\n",
      "  net.load_state_dict(torch.load(model_weights)[\"net\"])\n"
     ]
    },
    {
     "name": "stdout",
     "output_type": "stream",
     "text": [
      "Encoder was initilized with {'vae_name': 'stabilityai/stable-diffusion-2', 'encoder_norm_mode': 'cxr8'}\n",
      "Loading guidance network from /vol/ideadata/ed52egek/pycharm/trichotomy/importantmodels/cxr8_diffusionmodels/baseline-runs/cxr8_uncond/network-snapshot-0008388-0.050.pkl ...\n"
     ]
    },
    {
     "name": "stderr",
     "output_type": "stream",
     "text": [
      "/tmp/ipykernel_3058147/2998257040.py:162: FutureWarning: You are using `torch.load` with `weights_only=False` (the current default value), which uses the default pickle module implicitly. It is possible to construct malicious pickle data which will execute arbitrary code during unpickling (See https://github.com/pytorch/pytorch/blob/main/SECURITY.md#untrusted-models for more details). In a future release, the default value for `weights_only` will be flipped to `True`. This limits the functions that could be executed during unpickling. Arbitrary objects will no longer be allowed to be loaded via this mode unless they are explicitly allowlisted by the user via `torch.serialization.add_safe_globals`. We recommend you start setting `weights_only=True` for any use case where you don't have full control of the loaded file. Please open an issue on GitHub for any issues related to this experimental feature.\n",
      "  gnet.load_state_dict(torch.load(gmodel_weights)[\"net\"])\n"
     ]
    },
    {
     "name": "stdout",
     "output_type": "stream",
     "text": [
      "Setting up StabilityVAEEncoder...\n",
      "Saving images to ./diadm_train_with_dse/\n",
      "Sampler kwargs\n",
      "{'autoguidance': True, 'guidance': 1.4}\n"
     ]
    }
   ],
   "source": [
    "from einops import repeat\n",
    "\n",
    "filelist = \"/vol/ideadata/ed52egek/pycharm/trichotomy/datasets/eight_cxr8_train.txt\" \n",
    "target_dir = \"diadm_train_with_dse\"\n",
    "mode = \"DiADM\"\n",
    "model_kwargs = kwargs[mode][\"model_kwargs\"]\n",
    "ds_kwargs = kwargs[mode][\"ds_kwargs\"]\n",
    "model_kwargs[\"name\"] = mode\n",
    "print(\"=\"*80)\n",
    "print(\"Model kwargs:\")\n",
    "pprint(model_kwargs)\n",
    "print(\"Dataset kwargs:\")\n",
    "pprint(ds_kwargs)\n",
    "print(\"=\"*80)\n",
    "net, gnet, encoder =  get_image_generation_model(**model_kwargs)\n",
    "\n",
    "outdir = f\"./{target_dir}/\"\n",
    "print(f\"Saving images to {outdir}\")\n",
    "\n",
    "# indices are the indices of the dataset with certain calss \n",
    "sampler_kwargs = {\"autoguidance\":kwargs[mode][\"autoguidance\"], \n",
    "                \"guidance\":kwargs[mode][\"guidance\"], }\n",
    "\n",
    "print(\"Sampler kwargs\")\n",
    "pprint(sampler_kwargs)\n",
    "\n",
    "train_ds = LatentDataset(filelist_txt=filelist, basedir=ds_kwargs[\"basedir\"], cond_mode=ds_kwargs[\"cond_mode\"], load_to_memory=False)\n",
    "\n"
   ]
  },
  {
   "cell_type": "code",
   "execution_count": 47,
   "metadata": {},
   "outputs": [],
   "source": [
    "# prepare indices for sampling\n",
    "indices = torch.arange(len(dataset))\n",
    "indices = repeat(indices, \"l -> b l\", b=n_per_index)\n",
    "indices = indices.transpose(0, 1).flatten()\n"
   ]
  },
  {
   "cell_type": "code",
   "execution_count": 48,
   "metadata": {},
   "outputs": [
    {
     "name": "stderr",
     "output_type": "stream",
     "text": [
      "/tmp/ipykernel_3058147/2998257040.py:128: FutureWarning: You are using `torch.load` with `weights_only=False` (the current default value), which uses the default pickle module implicitly. It is possible to construct malicious pickle data which will execute arbitrary code during unpickling (See https://github.com/pytorch/pytorch/blob/main/SECURITY.md#untrusted-models for more details). In a future release, the default value for `weights_only` will be flipped to `True`. This limits the functions that could be executed during unpickling. Arbitrary objects will no longer be allowed to be loaded via this mode unless they are explicitly allowlisted by the user via `torch.serialization.add_safe_globals`. We recommend you start setting `weights_only=True` for any use case where you don't have full control of the loaded file. Please open an issue on GitHub for any issues related to this experimental feature.\n",
      "  net.load_state_dict(torch.load(path)[\"state_dict\"])\n",
      "/tmp/ipykernel_3058147/2998257040.py:67: FutureWarning: You are using `torch.load` with `weights_only=False` (the current default value), which uses the default pickle module implicitly. It is possible to construct malicious pickle data which will execute arbitrary code during unpickling (See https://github.com/pytorch/pytorch/blob/main/SECURITY.md#untrusted-models for more details). In a future release, the default value for `weights_only` will be flipped to `True`. This limits the functions that could be executed during unpickling. Arbitrary objects will no longer be allowed to be loaded via this mode unless they are explicitly allowlisted by the user via `torch.serialization.add_safe_globals`. We recommend you start setting `weights_only=True` for any use case where you don't have full control of the loaded file. Please open an issue on GitHub for any issues related to this experimental feature.\n",
      "  modelCheckpoint = torch.load(model_path)\n",
      "/tmp/ipykernel_3058147/4063446966.py:31: DeprecationWarning: __array__ implementation doesn't accept a copy keyword, so passing copy=False failed. __array__ must implement 'dtype' and 'copy' keyword arguments. To learn more, see the migration guide https://numpy.org/devdocs/numpy_2_0_migration_guide.html#adapting-to-changes-in-the-copy-keyword\n",
      "  self.indices = np.array_split(np.array(indices), self.num_batches)\n",
      "Generating images:   0%|          | 9/67309 [00:42<87:02:43,  4.66s/batch]"
     ]
    },
    {
     "name": "stdout",
     "output_type": "stream",
     "text": [
      "only memorized for guidance: 1.4 and path: images/00000005_007.png\n"
     ]
    },
    {
     "name": "stderr",
     "output_type": "stream",
     "text": [
      "Generating images:   0%|          | 11/67309 [00:57<109:13:25,  5.84s/batch]"
     ]
    },
    {
     "name": "stdout",
     "output_type": "stream",
     "text": [
      "only memorized for guidance: 1.4 and path: images/00000008_000.png\n",
      "only memorized for guidance: 1.2999999999999998 and path: images/00000008_000.png\n"
     ]
    },
    {
     "name": "stderr",
     "output_type": "stream",
     "text": [
      "Generating images:   0%|          | 12/67309 [01:10<153:45:10,  8.22s/batch]"
     ]
    },
    {
     "name": "stdout",
     "output_type": "stream",
     "text": [
      "only memorized for guidance: 1.4 and path: images/00000008_001.png\n"
     ]
    },
    {
     "name": "stderr",
     "output_type": "stream",
     "text": [
      "Generating images:   0%|          | 37/67309 [03:22<102:14:35,  5.47s/batch]\n"
     ]
    },
    {
     "ename": "KeyboardInterrupt",
     "evalue": "",
     "output_type": "error",
     "traceback": [
      "\u001b[0;31m---------------------------------------------------------------------------\u001b[0m",
      "\u001b[0;31mKeyboardInterrupt\u001b[0m                         Traceback (most recent call last)",
      "Cell \u001b[0;32mIn[48], line 106\u001b[0m\n\u001b[1;32m     92\u001b[0m dse \u001b[38;5;241m=\u001b[39m DiADMSampleEvaluator()\n\u001b[1;32m     94\u001b[0m image_iter \u001b[38;5;241m=\u001b[39m ImageIterable(train_ds\u001b[38;5;241m=\u001b[39mtrain_ds, \n\u001b[1;32m     95\u001b[0m                            indices\u001b[38;5;241m=\u001b[39mindices, \n\u001b[1;32m     96\u001b[0m                            device\u001b[38;5;241m=\u001b[39mtorch\u001b[38;5;241m.\u001b[39mdevice(\u001b[38;5;124m\"\u001b[39m\u001b[38;5;124mcuda\u001b[39m\u001b[38;5;124m\"\u001b[39m), \n\u001b[0;32m   (...)\u001b[0m\n\u001b[1;32m    103\u001b[0m                            dse\u001b[38;5;241m=\u001b[39mdse,\n\u001b[1;32m    104\u001b[0m                            sampler_kwargs\u001b[38;5;241m=\u001b[39msampler_kwargs)\n\u001b[0;32m--> 106\u001b[0m \u001b[38;5;28;43;01mfor\u001b[39;49;00m\u001b[43m \u001b[49m\u001b[43mr\u001b[49m\u001b[43m \u001b[49m\u001b[38;5;129;43;01min\u001b[39;49;00m\u001b[43m \u001b[49m\u001b[43mtqdm\u001b[49m\u001b[38;5;241;43m.\u001b[39;49m\u001b[43mtqdm\u001b[49m\u001b[43m(\u001b[49m\u001b[43mimage_iter\u001b[49m\u001b[43m,\u001b[49m\u001b[43m \u001b[49m\u001b[43munit\u001b[49m\u001b[38;5;241;43m=\u001b[39;49m\u001b[38;5;124;43m'\u001b[39;49m\u001b[38;5;124;43mbatch\u001b[39;49m\u001b[38;5;124;43m'\u001b[39;49m\u001b[43m,\u001b[49m\u001b[43m \u001b[49m\u001b[43mtotal\u001b[49m\u001b[38;5;241;43m=\u001b[39;49m\u001b[38;5;28;43mlen\u001b[39;49m\u001b[43m(\u001b[49m\u001b[43mimage_iter\u001b[49m\u001b[43m)\u001b[49m\u001b[43m,\u001b[49m\u001b[43m \u001b[49m\u001b[43mdesc\u001b[49m\u001b[38;5;241;43m=\u001b[39;49m\u001b[38;5;124;43mf\u001b[39;49m\u001b[38;5;124;43m\"\u001b[39;49m\u001b[38;5;124;43mGenerating images\u001b[39;49m\u001b[38;5;124;43m\"\u001b[39;49m\u001b[43m)\u001b[49m\u001b[43m:\u001b[49m\n\u001b[1;32m    107\u001b[0m \u001b[43m    \u001b[49m\u001b[38;5;28;43;01mpass\u001b[39;49;00m\n",
      "File \u001b[0;32m/vol/ideadata/ed52egek/miniconda/envs/trichotomy/lib/python3.12/site-packages/tqdm/std.py:1181\u001b[0m, in \u001b[0;36mtqdm.__iter__\u001b[0;34m(self)\u001b[0m\n\u001b[1;32m   1178\u001b[0m time \u001b[38;5;241m=\u001b[39m \u001b[38;5;28mself\u001b[39m\u001b[38;5;241m.\u001b[39m_time\n\u001b[1;32m   1180\u001b[0m \u001b[38;5;28;01mtry\u001b[39;00m:\n\u001b[0;32m-> 1181\u001b[0m \u001b[43m    \u001b[49m\u001b[38;5;28;43;01mfor\u001b[39;49;00m\u001b[43m \u001b[49m\u001b[43mobj\u001b[49m\u001b[43m \u001b[49m\u001b[38;5;129;43;01min\u001b[39;49;00m\u001b[43m \u001b[49m\u001b[43miterable\u001b[49m\u001b[43m:\u001b[49m\n\u001b[1;32m   1182\u001b[0m \u001b[43m        \u001b[49m\u001b[38;5;28;43;01myield\u001b[39;49;00m\u001b[43m \u001b[49m\u001b[43mobj\u001b[49m\n\u001b[1;32m   1183\u001b[0m \u001b[43m        \u001b[49m\u001b[38;5;66;43;03m# Update and possibly print the progressbar.\u001b[39;49;00m\n\u001b[1;32m   1184\u001b[0m \u001b[43m        \u001b[49m\u001b[38;5;66;43;03m# Note: does not call self.update(1) for speed optimisation.\u001b[39;49;00m\n",
      "Cell \u001b[0;32mIn[48], line 67\u001b[0m, in \u001b[0;36mImageIterable.__iter__\u001b[0;34m(self)\u001b[0m\n\u001b[1;32m     64\u001b[0m r\u001b[38;5;241m.\u001b[39mpaths \u001b[38;5;241m=\u001b[39m [\u001b[38;5;28mself\u001b[39m\u001b[38;5;241m.\u001b[39mtrain_ds\u001b[38;5;241m.\u001b[39mfile_list[x] \u001b[38;5;28;01mfor\u001b[39;00m x \u001b[38;5;129;01min\u001b[39;00m r\u001b[38;5;241m.\u001b[39mindices]\n\u001b[1;32m     66\u001b[0m \u001b[38;5;66;03m# Generate images\u001b[39;00m\n\u001b[0;32m---> 67\u001b[0m latents \u001b[38;5;241m=\u001b[39m \u001b[43mdnnlib\u001b[49m\u001b[38;5;241;43m.\u001b[39;49m\u001b[43mutil\u001b[49m\u001b[38;5;241;43m.\u001b[39;49m\u001b[43mcall_func_by_name\u001b[49m\u001b[43m(\u001b[49m\u001b[43mfunc_name\u001b[49m\u001b[38;5;241;43m=\u001b[39;49m\u001b[38;5;28;43mself\u001b[39;49m\u001b[38;5;241;43m.\u001b[39;49m\u001b[43msampler_fn\u001b[49m\u001b[43m,\u001b[49m\u001b[43m \u001b[49m\u001b[43mnet\u001b[49m\u001b[38;5;241;43m=\u001b[39;49m\u001b[38;5;28;43mself\u001b[39;49m\u001b[38;5;241;43m.\u001b[39;49m\u001b[43mnet\u001b[49m\u001b[43m,\u001b[49m\u001b[43m \u001b[49m\u001b[43mnoise\u001b[49m\u001b[38;5;241;43m=\u001b[39;49m\u001b[43mr\u001b[49m\u001b[38;5;241;43m.\u001b[39;49m\u001b[43mnoise\u001b[49m\u001b[43m,\u001b[49m\n\u001b[1;32m     68\u001b[0m \u001b[43m                                        \u001b[49m\u001b[43mlabels\u001b[49m\u001b[38;5;241;43m=\u001b[39;49m\u001b[43mr\u001b[49m\u001b[38;5;241;43m.\u001b[39;49m\u001b[43mlabels\u001b[49m\u001b[43m,\u001b[49m\u001b[43m \u001b[49m\u001b[43mgnet\u001b[49m\u001b[38;5;241;43m=\u001b[39;49m\u001b[38;5;28;43mself\u001b[39;49m\u001b[38;5;241;43m.\u001b[39;49m\u001b[43mgnet\u001b[49m\u001b[43m,\u001b[49m\u001b[43m \u001b[49m\u001b[43mrandn_like\u001b[49m\u001b[38;5;241;43m=\u001b[39;49m\u001b[43mrnd\u001b[49m\u001b[38;5;241;43m.\u001b[39;49m\u001b[43mrandn_like\u001b[49m\u001b[43m,\u001b[49m\u001b[43m \u001b[49m\u001b[38;5;241;43m*\u001b[39;49m\u001b[38;5;241;43m*\u001b[39;49m\u001b[38;5;28;43mself\u001b[39;49m\u001b[38;5;241;43m.\u001b[39;49m\u001b[43msampler_kwargs\u001b[49m\u001b[43m)\u001b[49m\n\u001b[1;32m     69\u001b[0m r\u001b[38;5;241m.\u001b[39mimages \u001b[38;5;241m=\u001b[39m \u001b[38;5;28mself\u001b[39m\u001b[38;5;241m.\u001b[39mencoder\u001b[38;5;241m.\u001b[39mdecode(latents)\n\u001b[1;32m     70\u001b[0m r\u001b[38;5;241m.\u001b[39mimages \u001b[38;5;241m=\u001b[39m r\u001b[38;5;241m.\u001b[39mimages\u001b[38;5;241m.\u001b[39mfloat() \u001b[38;5;241m/\u001b[39m \u001b[38;5;241m255.\u001b[39m\n",
      "File \u001b[0;32m/vol/ideadata/ed52egek/pycharm/trichotomy/edm2/dnnlib/util.py:285\u001b[0m, in \u001b[0;36mcall_func_by_name\u001b[0;34m(func_name, *args, **kwargs)\u001b[0m\n\u001b[1;32m    283\u001b[0m func_obj \u001b[38;5;241m=\u001b[39m get_obj_by_name(func_name) \u001b[38;5;28;01mif\u001b[39;00m \u001b[38;5;28misinstance\u001b[39m(func_name, \u001b[38;5;28mstr\u001b[39m) \u001b[38;5;28;01melse\u001b[39;00m func_name\n\u001b[1;32m    284\u001b[0m \u001b[38;5;28;01massert\u001b[39;00m \u001b[38;5;28mcallable\u001b[39m(func_obj)\n\u001b[0;32m--> 285\u001b[0m \u001b[38;5;28;01mreturn\u001b[39;00m \u001b[43mfunc_obj\u001b[49m\u001b[43m(\u001b[49m\u001b[38;5;241;43m*\u001b[39;49m\u001b[43margs\u001b[49m\u001b[43m,\u001b[49m\u001b[43m \u001b[49m\u001b[38;5;241;43m*\u001b[39;49m\u001b[38;5;241;43m*\u001b[39;49m\u001b[43mkwargs\u001b[49m\u001b[43m)\u001b[49m\n",
      "File \u001b[0;32m/vol/ideadata/ed52egek/pycharm/trichotomy/edm2/generate_images.py:98\u001b[0m, in \u001b[0;36medm_sampler\u001b[0;34m(net, noise, labels, gnet, num_steps, sigma_min, sigma_max, rho, guidance, S_churn, S_min, S_max, S_noise, dtype, randn_like, autoguidance)\u001b[0m\n\u001b[1;32m     95\u001b[0m     x_hat \u001b[38;5;241m=\u001b[39m x_cur\n\u001b[1;32m     97\u001b[0m \u001b[38;5;66;03m# Euler step.\u001b[39;00m\n\u001b[0;32m---> 98\u001b[0m d_cur \u001b[38;5;241m=\u001b[39m (x_hat \u001b[38;5;241m-\u001b[39m \u001b[43mdenoise\u001b[49m\u001b[43m(\u001b[49m\u001b[43mx_hat\u001b[49m\u001b[43m,\u001b[49m\u001b[43m \u001b[49m\u001b[43mt_hat\u001b[49m\u001b[43m)\u001b[49m) \u001b[38;5;241m/\u001b[39m t_hat\n\u001b[1;32m     99\u001b[0m x_next \u001b[38;5;241m=\u001b[39m x_hat \u001b[38;5;241m+\u001b[39m (t_next \u001b[38;5;241m-\u001b[39m t_hat) \u001b[38;5;241m*\u001b[39m d_cur\n\u001b[1;32m    101\u001b[0m \u001b[38;5;66;03m# Apply 2nd order correction.\u001b[39;00m\n",
      "File \u001b[0;32m/vol/ideadata/ed52egek/pycharm/trichotomy/edm2/generate_images.py:69\u001b[0m, in \u001b[0;36medm_sampler.<locals>.denoise\u001b[0;34m(x, t)\u001b[0m\n\u001b[1;32m     68\u001b[0m \u001b[38;5;28;01mdef\u001b[39;00m \u001b[38;5;21mdenoise\u001b[39m(x, t):\n\u001b[0;32m---> 69\u001b[0m     Dx \u001b[38;5;241m=\u001b[39m \u001b[43mnet\u001b[49m\u001b[43m(\u001b[49m\u001b[43mx\u001b[49m\u001b[43m,\u001b[49m\u001b[43m \u001b[49m\u001b[43mt\u001b[49m\u001b[43m,\u001b[49m\u001b[43m \u001b[49m\u001b[43mlabels\u001b[49m\u001b[43m)\u001b[49m\u001b[38;5;241m.\u001b[39mto(dtype)\n\u001b[1;32m     70\u001b[0m     \u001b[38;5;28;01mif\u001b[39;00m guidance \u001b[38;5;241m==\u001b[39m \u001b[38;5;241m1\u001b[39m:\n\u001b[1;32m     71\u001b[0m         \u001b[38;5;28;01mreturn\u001b[39;00m Dx\n",
      "File \u001b[0;32m/vol/ideadata/ed52egek/miniconda/envs/trichotomy/lib/python3.12/site-packages/torch/nn/modules/module.py:1736\u001b[0m, in \u001b[0;36mModule._wrapped_call_impl\u001b[0;34m(self, *args, **kwargs)\u001b[0m\n\u001b[1;32m   1734\u001b[0m     \u001b[38;5;28;01mreturn\u001b[39;00m \u001b[38;5;28mself\u001b[39m\u001b[38;5;241m.\u001b[39m_compiled_call_impl(\u001b[38;5;241m*\u001b[39margs, \u001b[38;5;241m*\u001b[39m\u001b[38;5;241m*\u001b[39mkwargs)  \u001b[38;5;66;03m# type: ignore[misc]\u001b[39;00m\n\u001b[1;32m   1735\u001b[0m \u001b[38;5;28;01melse\u001b[39;00m:\n\u001b[0;32m-> 1736\u001b[0m     \u001b[38;5;28;01mreturn\u001b[39;00m \u001b[38;5;28;43mself\u001b[39;49m\u001b[38;5;241;43m.\u001b[39;49m\u001b[43m_call_impl\u001b[49m\u001b[43m(\u001b[49m\u001b[38;5;241;43m*\u001b[39;49m\u001b[43margs\u001b[49m\u001b[43m,\u001b[49m\u001b[43m \u001b[49m\u001b[38;5;241;43m*\u001b[39;49m\u001b[38;5;241;43m*\u001b[39;49m\u001b[43mkwargs\u001b[49m\u001b[43m)\u001b[49m\n",
      "File \u001b[0;32m/vol/ideadata/ed52egek/miniconda/envs/trichotomy/lib/python3.12/site-packages/torch/nn/modules/module.py:1747\u001b[0m, in \u001b[0;36mModule._call_impl\u001b[0;34m(self, *args, **kwargs)\u001b[0m\n\u001b[1;32m   1742\u001b[0m \u001b[38;5;66;03m# If we don't have any hooks, we want to skip the rest of the logic in\u001b[39;00m\n\u001b[1;32m   1743\u001b[0m \u001b[38;5;66;03m# this function, and just call forward.\u001b[39;00m\n\u001b[1;32m   1744\u001b[0m \u001b[38;5;28;01mif\u001b[39;00m \u001b[38;5;129;01mnot\u001b[39;00m (\u001b[38;5;28mself\u001b[39m\u001b[38;5;241m.\u001b[39m_backward_hooks \u001b[38;5;129;01mor\u001b[39;00m \u001b[38;5;28mself\u001b[39m\u001b[38;5;241m.\u001b[39m_backward_pre_hooks \u001b[38;5;129;01mor\u001b[39;00m \u001b[38;5;28mself\u001b[39m\u001b[38;5;241m.\u001b[39m_forward_hooks \u001b[38;5;129;01mor\u001b[39;00m \u001b[38;5;28mself\u001b[39m\u001b[38;5;241m.\u001b[39m_forward_pre_hooks\n\u001b[1;32m   1745\u001b[0m         \u001b[38;5;129;01mor\u001b[39;00m _global_backward_pre_hooks \u001b[38;5;129;01mor\u001b[39;00m _global_backward_hooks\n\u001b[1;32m   1746\u001b[0m         \u001b[38;5;129;01mor\u001b[39;00m _global_forward_hooks \u001b[38;5;129;01mor\u001b[39;00m _global_forward_pre_hooks):\n\u001b[0;32m-> 1747\u001b[0m     \u001b[38;5;28;01mreturn\u001b[39;00m \u001b[43mforward_call\u001b[49m\u001b[43m(\u001b[49m\u001b[38;5;241;43m*\u001b[39;49m\u001b[43margs\u001b[49m\u001b[43m,\u001b[49m\u001b[43m \u001b[49m\u001b[38;5;241;43m*\u001b[39;49m\u001b[38;5;241;43m*\u001b[39;49m\u001b[43mkwargs\u001b[49m\u001b[43m)\u001b[49m\n\u001b[1;32m   1749\u001b[0m result \u001b[38;5;241m=\u001b[39m \u001b[38;5;28;01mNone\u001b[39;00m\n\u001b[1;32m   1750\u001b[0m called_always_called_hooks \u001b[38;5;241m=\u001b[39m \u001b[38;5;28mset\u001b[39m()\n",
      "File \u001b[0;32m<string>:312\u001b[0m, in \u001b[0;36mforward\u001b[0;34m(self, x, sigma, class_labels, force_fp32, return_logvar, **unet_kwargs)\u001b[0m\n",
      "File \u001b[0;32m/vol/ideadata/ed52egek/miniconda/envs/trichotomy/lib/python3.12/site-packages/torch/nn/modules/module.py:1736\u001b[0m, in \u001b[0;36mModule._wrapped_call_impl\u001b[0;34m(self, *args, **kwargs)\u001b[0m\n\u001b[1;32m   1734\u001b[0m     \u001b[38;5;28;01mreturn\u001b[39;00m \u001b[38;5;28mself\u001b[39m\u001b[38;5;241m.\u001b[39m_compiled_call_impl(\u001b[38;5;241m*\u001b[39margs, \u001b[38;5;241m*\u001b[39m\u001b[38;5;241m*\u001b[39mkwargs)  \u001b[38;5;66;03m# type: ignore[misc]\u001b[39;00m\n\u001b[1;32m   1735\u001b[0m \u001b[38;5;28;01melse\u001b[39;00m:\n\u001b[0;32m-> 1736\u001b[0m     \u001b[38;5;28;01mreturn\u001b[39;00m \u001b[38;5;28;43mself\u001b[39;49m\u001b[38;5;241;43m.\u001b[39;49m\u001b[43m_call_impl\u001b[49m\u001b[43m(\u001b[49m\u001b[38;5;241;43m*\u001b[39;49m\u001b[43margs\u001b[49m\u001b[43m,\u001b[49m\u001b[43m \u001b[49m\u001b[38;5;241;43m*\u001b[39;49m\u001b[38;5;241;43m*\u001b[39;49m\u001b[43mkwargs\u001b[49m\u001b[43m)\u001b[49m\n",
      "File \u001b[0;32m/vol/ideadata/ed52egek/miniconda/envs/trichotomy/lib/python3.12/site-packages/torch/nn/modules/module.py:1747\u001b[0m, in \u001b[0;36mModule._call_impl\u001b[0;34m(self, *args, **kwargs)\u001b[0m\n\u001b[1;32m   1742\u001b[0m \u001b[38;5;66;03m# If we don't have any hooks, we want to skip the rest of the logic in\u001b[39;00m\n\u001b[1;32m   1743\u001b[0m \u001b[38;5;66;03m# this function, and just call forward.\u001b[39;00m\n\u001b[1;32m   1744\u001b[0m \u001b[38;5;28;01mif\u001b[39;00m \u001b[38;5;129;01mnot\u001b[39;00m (\u001b[38;5;28mself\u001b[39m\u001b[38;5;241m.\u001b[39m_backward_hooks \u001b[38;5;129;01mor\u001b[39;00m \u001b[38;5;28mself\u001b[39m\u001b[38;5;241m.\u001b[39m_backward_pre_hooks \u001b[38;5;129;01mor\u001b[39;00m \u001b[38;5;28mself\u001b[39m\u001b[38;5;241m.\u001b[39m_forward_hooks \u001b[38;5;129;01mor\u001b[39;00m \u001b[38;5;28mself\u001b[39m\u001b[38;5;241m.\u001b[39m_forward_pre_hooks\n\u001b[1;32m   1745\u001b[0m         \u001b[38;5;129;01mor\u001b[39;00m _global_backward_pre_hooks \u001b[38;5;129;01mor\u001b[39;00m _global_backward_hooks\n\u001b[1;32m   1746\u001b[0m         \u001b[38;5;129;01mor\u001b[39;00m _global_forward_hooks \u001b[38;5;129;01mor\u001b[39;00m _global_forward_pre_hooks):\n\u001b[0;32m-> 1747\u001b[0m     \u001b[38;5;28;01mreturn\u001b[39;00m \u001b[43mforward_call\u001b[49m\u001b[43m(\u001b[49m\u001b[38;5;241;43m*\u001b[39;49m\u001b[43margs\u001b[49m\u001b[43m,\u001b[49m\u001b[43m \u001b[49m\u001b[38;5;241;43m*\u001b[39;49m\u001b[38;5;241;43m*\u001b[39;49m\u001b[43mkwargs\u001b[49m\u001b[43m)\u001b[49m\n\u001b[1;32m   1749\u001b[0m result \u001b[38;5;241m=\u001b[39m \u001b[38;5;28;01mNone\u001b[39;00m\n\u001b[1;32m   1750\u001b[0m called_always_called_hooks \u001b[38;5;241m=\u001b[39m \u001b[38;5;28mset\u001b[39m()\n",
      "File \u001b[0;32m<string>:269\u001b[0m, in \u001b[0;36mforward\u001b[0;34m(self, x, noise_labels, class_labels)\u001b[0m\n",
      "File \u001b[0;32m/vol/ideadata/ed52egek/miniconda/envs/trichotomy/lib/python3.12/site-packages/torch/nn/modules/module.py:1736\u001b[0m, in \u001b[0;36mModule._wrapped_call_impl\u001b[0;34m(self, *args, **kwargs)\u001b[0m\n\u001b[1;32m   1734\u001b[0m     \u001b[38;5;28;01mreturn\u001b[39;00m \u001b[38;5;28mself\u001b[39m\u001b[38;5;241m.\u001b[39m_compiled_call_impl(\u001b[38;5;241m*\u001b[39margs, \u001b[38;5;241m*\u001b[39m\u001b[38;5;241m*\u001b[39mkwargs)  \u001b[38;5;66;03m# type: ignore[misc]\u001b[39;00m\n\u001b[1;32m   1735\u001b[0m \u001b[38;5;28;01melse\u001b[39;00m:\n\u001b[0;32m-> 1736\u001b[0m     \u001b[38;5;28;01mreturn\u001b[39;00m \u001b[38;5;28;43mself\u001b[39;49m\u001b[38;5;241;43m.\u001b[39;49m\u001b[43m_call_impl\u001b[49m\u001b[43m(\u001b[49m\u001b[38;5;241;43m*\u001b[39;49m\u001b[43margs\u001b[49m\u001b[43m,\u001b[49m\u001b[43m \u001b[49m\u001b[38;5;241;43m*\u001b[39;49m\u001b[38;5;241;43m*\u001b[39;49m\u001b[43mkwargs\u001b[49m\u001b[43m)\u001b[49m\n",
      "File \u001b[0;32m/vol/ideadata/ed52egek/miniconda/envs/trichotomy/lib/python3.12/site-packages/torch/nn/modules/module.py:1747\u001b[0m, in \u001b[0;36mModule._call_impl\u001b[0;34m(self, *args, **kwargs)\u001b[0m\n\u001b[1;32m   1742\u001b[0m \u001b[38;5;66;03m# If we don't have any hooks, we want to skip the rest of the logic in\u001b[39;00m\n\u001b[1;32m   1743\u001b[0m \u001b[38;5;66;03m# this function, and just call forward.\u001b[39;00m\n\u001b[1;32m   1744\u001b[0m \u001b[38;5;28;01mif\u001b[39;00m \u001b[38;5;129;01mnot\u001b[39;00m (\u001b[38;5;28mself\u001b[39m\u001b[38;5;241m.\u001b[39m_backward_hooks \u001b[38;5;129;01mor\u001b[39;00m \u001b[38;5;28mself\u001b[39m\u001b[38;5;241m.\u001b[39m_backward_pre_hooks \u001b[38;5;129;01mor\u001b[39;00m \u001b[38;5;28mself\u001b[39m\u001b[38;5;241m.\u001b[39m_forward_hooks \u001b[38;5;129;01mor\u001b[39;00m \u001b[38;5;28mself\u001b[39m\u001b[38;5;241m.\u001b[39m_forward_pre_hooks\n\u001b[1;32m   1745\u001b[0m         \u001b[38;5;129;01mor\u001b[39;00m _global_backward_pre_hooks \u001b[38;5;129;01mor\u001b[39;00m _global_backward_hooks\n\u001b[1;32m   1746\u001b[0m         \u001b[38;5;129;01mor\u001b[39;00m _global_forward_hooks \u001b[38;5;129;01mor\u001b[39;00m _global_forward_pre_hooks):\n\u001b[0;32m-> 1747\u001b[0m     \u001b[38;5;28;01mreturn\u001b[39;00m \u001b[43mforward_call\u001b[49m\u001b[43m(\u001b[49m\u001b[38;5;241;43m*\u001b[39;49m\u001b[43margs\u001b[49m\u001b[43m,\u001b[49m\u001b[43m \u001b[49m\u001b[38;5;241;43m*\u001b[39;49m\u001b[38;5;241;43m*\u001b[39;49m\u001b[43mkwargs\u001b[49m\u001b[43m)\u001b[49m\n\u001b[1;32m   1749\u001b[0m result \u001b[38;5;241m=\u001b[39m \u001b[38;5;28;01mNone\u001b[39;00m\n\u001b[1;32m   1750\u001b[0m called_always_called_hooks \u001b[38;5;241m=\u001b[39m \u001b[38;5;28mset\u001b[39m()\n",
      "File \u001b[0;32m<string>:173\u001b[0m, in \u001b[0;36mforward\u001b[0;34m(self, x, emb)\u001b[0m\n",
      "\u001b[0;31mKeyboardInterrupt\u001b[0m: "
     ]
    }
   ],
   "source": [
    "class ImageIterable:\n",
    "    def __init__(self, \n",
    "                 train_ds, \n",
    "                 device, \n",
    "                 net, \n",
    "                 sampler_fn, \n",
    "                 gnet, \n",
    "                 encoder, \n",
    "                 outdir=None, \n",
    "                 verbose=False, \n",
    "                 sampler_kwargs={},\n",
    "                 indices=[],\n",
    "                 max_batch_size=32, \n",
    "                 add_seed_to_path=True, \n",
    "                 dse=None):\n",
    "        self.train_ds = train_ds\n",
    "        self.device = device\n",
    "        self.net = net\n",
    "        self.sampler_fn = sampler_fn\n",
    "        self.gnet = gnet\n",
    "        self.encoder = encoder\n",
    "        self.outdir = outdir\n",
    "        self.verbose = verbose\n",
    "        self.max_batch_size = max_batch_size\n",
    "        self.sampler_kwargs = sampler_kwargs\n",
    "        self.guidance_strength = self.sampler_kwargs[\"guidance\"]\n",
    "\n",
    "        # Prepare seeds and batches\n",
    "        self.num_batches = max((len(indices) - 1) // max_batch_size + 1, 1)\n",
    "        self.rank_batches = np.array_split( np.arange(len(indices)), self.num_batches)\n",
    "        self.indices = np.array_split(np.array(indices), self.num_batches)\n",
    "        self.add_seed_to_path = add_seed_to_path\n",
    "\n",
    "        self.dse = dse\n",
    "\n",
    "        if verbose:\n",
    "            print(f'Generating {len(self.seeds)} images...')\n",
    "\n",
    "    def __len__(self):\n",
    "        return len(self.rank_batches)\n",
    "\n",
    "    def __iter__(self):\n",
    "\n",
    "        for batch_idx in range(len(self.rank_batches)):\n",
    "            # one batch only consists of one single image!\n",
    "\n",
    "            image_generated = False\n",
    "            guidance = self.guidance_strength\n",
    "            indices = self.indices[batch_idx]\n",
    "            r = dnnlib.EasyDict(images=None, labels=None, noise=None, \n",
    "                                batch_idx=batch_idx, num_batches=len(self.rank_batches), \n",
    "                                indices=indices, paths=None)\n",
    "            r.seeds =  self.rank_batches[batch_idx] \n",
    "\n",
    "\n",
    "\n",
    "            while not image_generated: \n",
    "                if len(r.seeds) > 0:\n",
    "                    while not image_generated:\n",
    "                        # Generate noise and labels\n",
    "                        rnd = StackedRandomGenerator(self.device, r.seeds)\n",
    "                        r.noise = rnd.randn([len(r.seeds), self.net.img_channels, self.net.img_resolution, self.net.img_resolution], device=self.device)\n",
    "                        r.labels = torch.stack([self.train_ds.get_label(x) for x in r.indices]).to(self.device)\n",
    "                        r.paths = [self.train_ds.file_list[x] for x in r.indices]\n",
    "\n",
    "                        # Generate images\n",
    "                        latents = dnnlib.util.call_func_by_name(func_name=self.sampler_fn, net=self.net, noise=r.noise,\n",
    "                                                                labels=r.labels, gnet=self.gnet, randn_like=rnd.randn_like, **self.sampler_kwargs)\n",
    "                        r.images = self.encoder.decode(latents)\n",
    "                        r.images = r.images.float() / 255.\n",
    "\n",
    "                        clf_pred_scores, priv_pred = self.dse.predict(r.images)\n",
    "                        if priv_pred.min() < 1: \n",
    "                            image_generated = True\n",
    "                            idx = clf_pred_scores.argmin()\n",
    "                            image = (r.images[idx] * 255).to(torch.uint8)\n",
    "                            image = image.permute(1, 2, 0).cpu().numpy()\n",
    "                            path_real = r.paths[idx]\n",
    "                            image_pth = os.path.join(self.outdir, path_real)\n",
    "\n",
    "                            os.makedirs(os.path.dirname(image_pth), exist_ok=True)\n",
    "                            PIL.Image.fromarray(image, 'RGB').save(image_pth)\n",
    "\n",
    "                        if not image_generated:\n",
    "                            r.seeds = r.seeds + self.max_batch_size\n",
    "                            print(f\"only memorized for guidance: {guidance} and path: {r.paths[0]}\")\n",
    "                            guidance = guidance - 0.1\n",
    "                \n",
    "            # Yield results\n",
    "            yield r\n",
    "\n",
    "device = torch.device(\"cuda\")\n",
    "dse = DiADMSampleEvaluator(device)\n",
    "\n",
    "image_iter = ImageIterable(train_ds=train_ds, \n",
    "                           indices=indices, \n",
    "                           device=device, \n",
    "                           net=net, \n",
    "                           sampler_fn=edm_sampler, \n",
    "                           gnet=gnet, \n",
    "                           encoder=encoder,\n",
    "                           outdir=outdir, \n",
    "                           max_batch_size=n_per_index,\n",
    "                           dse=dse,\n",
    "                           sampler_kwargs=sampler_kwargs)\n",
    "\n",
    "for r in tqdm.tqdm(image_iter, unit='batch', total=len(image_iter), desc=f\"Generating images\"):\n",
    "    pass\n",
    "    \n"
   ]
  },
  {
   "cell_type": "code",
   "execution_count": null,
   "metadata": {},
   "outputs": [
    {
     "ename": "NameError",
     "evalue": "name 'r' is not defined",
     "output_type": "error",
     "traceback": [
      "\u001b[0;31m---------------------------------------------------------------------------\u001b[0m",
      "\u001b[0;31mNameError\u001b[0m                                 Traceback (most recent call last)",
      "Cell \u001b[0;32mIn[21], line 1\u001b[0m\n\u001b[0;32m----> 1\u001b[0m \u001b[43mr\u001b[49m\u001b[38;5;241m.\u001b[39mimages\n",
      "\u001b[0;31mNameError\u001b[0m: name 'r' is not defined"
     ]
    }
   ],
   "source": [
    "r.images"
   ]
  }
 ],
 "metadata": {
  "kernelspec": {
   "display_name": "trichotomy",
   "language": "python",
   "name": "python3"
  },
  "language_info": {
   "codemirror_mode": {
    "name": "ipython",
    "version": 3
   },
   "file_extension": ".py",
   "mimetype": "text/x-python",
   "name": "python",
   "nbconvert_exporter": "python",
   "pygments_lexer": "ipython3",
   "version": "3.12.8"
  }
 },
 "nbformat": 4,
 "nbformat_minor": 2
}
