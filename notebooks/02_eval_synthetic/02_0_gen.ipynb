{
 "cells": [
  {
   "cell_type": "markdown",
   "metadata": {},
   "source": [
    "# Evaluate Trichotomy\n",
    "\n",
    "## Overview \n",
    "\n",
    "Notebook that provides code to evaluate trained diffusion models. Needs image generation model, privacy model, cxr-classification model. "
   ]
  },
  {
   "cell_type": "code",
   "execution_count": 2,
   "metadata": {},
   "outputs": [],
   "source": [
    "%run ../basesetup.ipynb \n",
    "# load basic functions such as generative model initializer, classification model, privacy mdoel"
   ]
  },
  {
   "cell_type": "code",
   "execution_count": null,
   "metadata": {},
   "outputs": [
    {
     "name": "stdout",
     "output_type": "stream",
     "text": [
      "['No Finding', 'Atelectasis', 'Cardiomegaly', 'Consolidation', 'Edema', 'Pleural Effusion', 'Pneumonia', 'Pneumothorax']\n"
     ]
    }
   ],
   "source": [
    "from pprint import pprint\n",
    "kwargs = {\n",
    "    \"EDM-2-AG\":{\n",
    "        \"autoguidance\":True,\n",
    "        \"guidance\":1.4,\n",
    "        \"model_kwargs\":{\n",
    "            \"model_weights\":\"/vol/ideadata/ed52egek/pycharm/trichotomy/importantmodels/cxr8_diffusionmodels/baseline-runs/cxr8_cond/training-state-0050331.pt\",\n",
    "            \"gmodel_weights\":\"/vol/ideadata/ed52egek/pycharm/trichotomy/importantmodels/cxr8_diffusionmodels/baseline-runs/cxr8_cond/training-state-0008388.pt\",\n",
    "            \"path_net\":\"/vol/ideadata/ed52egek/pycharm/trichotomy/importantmodels/cxr8_diffusionmodels/baseline-runs/cxr8_cond/network-snapshot-0050331-0.100.pkl\",\n",
    "            \"path_gnet\":\"/vol/ideadata/ed52egek/pycharm/trichotomy/importantmodels/cxr8_diffusionmodels/baseline-runs/cxr8_cond/network-snapshot-0008388-0.050.pkl\",\n",
    "        },\n",
    "        \"ds_kwargs\":{\n",
    "            \"cond_mode\":\"cond\", # pseudocond, cond\n",
    "            \"basedir\":\"/vol/idea_ramses/ed52egek/data/trichotomy\",\n",
    "            \"basedir_images\":\"/vol/ideadata/ed52egek/data/chestxray14\"\n",
    "        }\n",
    "    },\n",
    "    \"EDM-2\":{\n",
    "        \"autoguidance\":True,\n",
    "        \"guidance\":1.4,\n",
    "        \"model_kwargs\":{\n",
    "            \"model_weights\":\"/vol/ideadata/ed52egek/pycharm/trichotomy/importantmodels/cxr8_diffusionmodels/baseline-runs/cxr8_cond/training-state-0050331.pt\",\n",
    "            \"gmodel_weights\":\"/vol/ideadata/ed52egek/pycharm/trichotomy/importantmodels/cxr8_diffusionmodels/baseline-runs/cxr8_uncond/training-state-0008388.pt\",\n",
    "            \"path_net\":\"/vol/ideadata/ed52egek/pycharm/trichotomy/importantmodels/cxr8_diffusionmodels/baseline-runs/cxr8_cond/network-snapshot-0050331-0.100.pkl\",\n",
    "            \"path_gnet\":\"/vol/ideadata/ed52egek/pycharm/trichotomy/importantmodels/cxr8_diffusionmodels/baseline-runs/cxr8_uncond/network-snapshot-0008388-0.050.pkl\",\n",
    "        },\n",
    "        \"ds_kwargs\":{\n",
    "            \"cond_mode\":\"cond\", # pseudocond, cond\n",
    "            \"basedir\":\"/vol/idea_ramses/ed52egek/data/trichotomy\",\n",
    "            \"basedir_images\":\"/vol/ideadata/ed52egek/data/chestxray14\"\n",
    "        }\n",
    "    },\n",
    "    \"DiADM\":{\n",
    "        \"autoguidance\":True,\n",
    "        \"guidance\":1.4,\n",
    "        \"model_kwargs\":{\n",
    "            \"model_weights\":\"/vol/ideadata/ed52egek/pycharm/trichotomy/importantmodels/cxr8_diffusionmodels/baseline-runs/cxr8_pseudocond/training-state-0050331.pt\",\n",
    "            \"gmodel_weights\":\"/vol/ideadata/ed52egek/pycharm/trichotomy/importantmodels/cxr8_diffusionmodels/baseline-runs/cxr8_uncond/training-state-0008388.pt\",\n",
    "            \"path_net\":\"/vol/ideadata/ed52egek/pycharm/trichotomy/importantmodels/cxr8_diffusionmodels/baseline-runs/cxr8_pseudocond/network-snapshot-0050331-0.100.pkl\",\n",
    "            \"path_gnet\":\"/vol/ideadata/ed52egek/pycharm/trichotomy/importantmodels/cxr8_diffusionmodels/baseline-runs/cxr8_uncond/network-snapshot-0008388-0.050.pkl\",\n",
    "        },\n",
    "        \"ds_kwargs\":{\n",
    "            \"cond_mode\":\"pseudocond\", # pseudocond, cond\n",
    "            \"basedir\":\"/vol/idea_ramses/ed52egek/data/trichotomy\",\n",
    "            \"basedir_images\":\"/vol/ideadata/ed52egek/data/chestxray14\"\n",
    "        }\n",
    "    }\n",
    "}\n",
    "\n",
    "\n",
    "print(class_labels)"
   ]
  },
  {
   "cell_type": "markdown",
   "metadata": {},
   "source": [
    "## Start Sampling"
   ]
  },
  {
   "cell_type": "code",
   "execution_count": 1,
   "metadata": {},
   "outputs": [
    {
     "ename": "NameError",
     "evalue": "name 'class_labels' is not defined",
     "output_type": "error",
     "traceback": [
      "\u001b[0;31m---------------------------------------------------------------------------\u001b[0m",
      "\u001b[0;31mNameError\u001b[0m                                 Traceback (most recent call last)",
      "Cell \u001b[0;32mIn[1], line 7\u001b[0m\n\u001b[1;32m      5\u001b[0m n_per_index \u001b[38;5;241m=\u001b[39m \u001b[38;5;241m16\u001b[39m \u001b[38;5;66;03m#if ds_kwargs[\"cond_mode\"] == \"pseudocond\" else 1\u001b[39;00m\n\u001b[1;32m      6\u001b[0m N\u001b[38;5;241m=\u001b[39m\u001b[38;5;241m5\u001b[39m\u001b[38;5;66;03m# 95 # smallest (edema)\u001b[39;00m\n\u001b[0;32m----> 7\u001b[0m class_labels_to_sample \u001b[38;5;241m=\u001b[39m \u001b[43mclass_labels\u001b[49m\n\u001b[1;32m      8\u001b[0m model_kwargs \u001b[38;5;241m=\u001b[39m kwargs[mode][\u001b[38;5;124m\"\u001b[39m\u001b[38;5;124mmodel_kwargs\u001b[39m\u001b[38;5;124m\"\u001b[39m]\n\u001b[1;32m      9\u001b[0m ds_kwargs \u001b[38;5;241m=\u001b[39m kwargs[mode][\u001b[38;5;124m\"\u001b[39m\u001b[38;5;124mds_kwargs\u001b[39m\u001b[38;5;124m\"\u001b[39m]\n",
      "\u001b[0;31mNameError\u001b[0m: name 'class_labels' is not defined"
     ]
    }
   ],
   "source": [
    "filelist = \"/vol/ideadata/ed52egek/pycharm/trichotomy/datasets/eight_cxr8_train.txt\" \n",
    "#changing this only makes sense for pseudocond\n",
    "n_per_index = 2 #if ds_kwargs[\"cond_mode\"] == \"pseudocond\" else 1\n",
    "\n",
    "N=500# 95 # smallest (edema)\n",
    "class_labels_to_sample = [\"No Finding\"]\n",
    "\n",
    "\n",
    "for mode in [\"DiADM\"]:#, \"EDM-2\"]: \n",
    "    print(f\"Generating images for {mode}\")\n",
    "    #mode = \"EDM-2\"\n",
    "\n",
    "    model_kwargs = kwargs[mode][\"model_kwargs\"]\n",
    "    ds_kwargs = kwargs[mode][\"ds_kwargs\"]\n",
    "    model_kwargs[\"name\"] = mode\n",
    "    print(\"=\"*80)\n",
    "    print(\"Model kwargs:\")\n",
    "    pprint(model_kwargs)\n",
    "    print(\"Dataset kwargs:\")\n",
    "    pprint(ds_kwargs)\n",
    "\n",
    "    print(\"=\"*80)\n",
    "    net, gnet, encoder =  get_image_generation_model(**model_kwargs)\n",
    "\n",
    "    def path_to_img(path): \n",
    "        from torchvision.transforms import ToTensor, Resize\n",
    "        import os\n",
    "        path_to_img = ToTensor()(Resize(512)(Image.open(os.path.join(ds_kwargs[\"basedir_images\"], path, )).convert('RGB')))\n",
    "        return path_to_img\n",
    "\n",
    "    data = {}\n",
    "    for class_idx, class_label in enumerate(class_labels_to_sample): \n",
    "        data[class_label] = {}\n",
    "        outdir = f\"./generated_images_duplicates_new/{model_kwargs['name']}/{class_label.replace(' ', '_')}\"\n",
    "        print(f\"Saving images to {outdir}\")\n",
    "\n",
    "        dataset, indices = get_ds_and_indices(filelist=filelist, class_idx=class_idx, N=N,n_per_index=n_per_index, **ds_kwargs)\n",
    "\n",
    "        # indices are the indices of the dataset with certain calss \n",
    "        sampler_kwargs = {\"autoguidance\":kwargs[mode][\"autoguidance\"], \n",
    "                        \"guidance\":kwargs[mode][\"guidance\"], }\n",
    "\n",
    "        print(\"Sampler kwargs\")\n",
    "        pprint(sampler_kwargs)\n",
    "\n",
    "\n",
    "        image_iter = ImageIterable(train_ds=dataset, indices=indices, device=torch.device(\"cuda\"), net=net, sampler_fn=edm_sampler, gnet=gnet, encoder=encoder,outdir=outdir, sampler_kwargs=sampler_kwargs)\n",
    "\n",
    "        data[class_label][\"real_path\"] = []\n",
    "        data[class_label][\"real_img\"] = []\n",
    "        data[class_label][\"snth_img\"] = []\n",
    "        data[class_label][\"label\"] = []\n",
    "\n",
    "        for r in tqdm.tqdm(image_iter, unit='batch', total=len(image_iter), desc=f\"Generating {class_label} images\"):\n",
    "            for i in range(len(r.images)): \n",
    "                data[class_label][\"real_path\"].append(r.paths[i])\n",
    "                data[class_label][\"real_img\"].append(path_to_img(r.paths[i]))\n",
    "                data[class_label][\"snth_img\"].append(r.images[i] / 255.)\n",
    "                data[class_label][\"label\"].append(r.labels[i])\n",
    "\n",
    "                break\n",
    "print(indices)"
   ]
  },
  {
   "cell_type": "code",
   "execution_count": null,
   "metadata": {},
   "outputs": [],
   "source": [
    "data"
   ]
  }
 ],
 "metadata": {
  "kernelspec": {
   "display_name": "trichotomy",
   "language": "python",
   "name": "python3"
  },
  "language_info": {
   "codemirror_mode": {
    "name": "ipython",
    "version": 3
   },
   "file_extension": ".py",
   "mimetype": "text/x-python",
   "name": "python",
   "nbconvert_exporter": "python",
   "pygments_lexer": "ipython3",
   "version": "3.12.8"
  }
 },
 "nbformat": 4,
 "nbformat_minor": 2
}
