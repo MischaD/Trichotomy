{
 "cells": [
  {
   "cell_type": "markdown",
   "metadata": {},
   "source": [
    "# Evaluate DiADM for memorization  \n",
    "\n",
    "## Overview \n",
    "\n",
    "Notebook that provides code to evaluate trained diffusion models. Needs image generation model, privacy model, cxr-classification model. "
   ]
  },
  {
   "cell_type": "code",
   "execution_count": 31,
   "metadata": {},
   "outputs": [],
   "source": [
    "%run ../basesetup.ipynb \n",
    "transform = T.Compose([T.ToTensor(), T.Resize(512)])  # Replace with your transforms if needed\n"
   ]
  },
  {
   "cell_type": "code",
   "execution_count": 32,
   "metadata": {},
   "outputs": [],
   "source": [
    "from pprint import pprint\n",
    "kwargs = {\n",
    "    \"DiADM\":{\n",
    "        \"autoguidance\":True,\n",
    "        \"guidance\":1.4,\n",
    "        \"model_kwargs\":{\n",
    "            \"model_weights\":\"/vol/ideadata/ed52egek/pycharm/trichotomy/importantmodels/cxr8_diffusionmodels/baseline-runs/cxr8_pseudocond/training-state-0050331.pt\",\n",
    "            \"gmodel_weights\":\"/vol/ideadata/ed52egek/pycharm/trichotomy/importantmodels/cxr8_diffusionmodels/baseline-runs/cxr8_uncond/training-state-0008388.pt\",\n",
    "            \"path_net\":\"/vol/ideadata/ed52egek/pycharm/trichotomy/importantmodels/cxr8_diffusionmodels/baseline-runs/cxr8_pseudocond/network-snapshot-0050331-0.100.pkl\",\n",
    "            \"path_gnet\":\"/vol/ideadata/ed52egek/pycharm/trichotomy/importantmodels/cxr8_diffusionmodels/baseline-runs/cxr8_uncond/network-snapshot-0008388-0.050.pkl\",\n",
    "        },\n",
    "        \"ds_kwargs\":{\n",
    "            \"cond_mode\":\"pseudocond\", # pseudocond, cond\n",
    "            \"basedir\":\"/vol/idea_ramses/ed52egek/data/trichotomy\",\n",
    "            \"basedir_images\":\"/vol/ideadata/ed52egek/data/chestxray14\"\n",
    "        }\n",
    "    }\n",
    "}"
   ]
  },
  {
   "cell_type": "markdown",
   "metadata": {},
   "source": [
    "## Check for duplication"
   ]
  },
  {
   "cell_type": "code",
   "execution_count": 40,
   "metadata": {},
   "outputs": [
    {
     "name": "stdout",
     "output_type": "stream",
     "text": [
      "================================================================================\n",
      "Model kwargs:\n",
      "{'gmodel_weights': '/vol/ideadata/ed52egek/pycharm/trichotomy/importantmodels/cxr8_diffusionmodels/baseline-runs/cxr8_uncond/training-state-0008388.pt',\n",
      " 'model_weights': '/vol/ideadata/ed52egek/pycharm/trichotomy/importantmodels/cxr8_diffusionmodels/baseline-runs/cxr8_pseudocond/training-state-0050331.pt',\n",
      " 'name': 'DiADM',\n",
      " 'path_gnet': '/vol/ideadata/ed52egek/pycharm/trichotomy/importantmodels/cxr8_diffusionmodels/baseline-runs/cxr8_uncond/network-snapshot-0008388-0.050.pkl',\n",
      " 'path_net': '/vol/ideadata/ed52egek/pycharm/trichotomy/importantmodels/cxr8_diffusionmodels/baseline-runs/cxr8_pseudocond/network-snapshot-0050331-0.100.pkl'}\n",
      "Dataset kwargs:\n",
      "{'basedir': '/vol/idea_ramses/ed52egek/data/trichotomy',\n",
      " 'basedir_images': '/vol/ideadata/ed52egek/data/chestxray14',\n",
      " 'cond_mode': 'pseudocond'}\n",
      "================================================================================\n",
      "Loading network from /vol/ideadata/ed52egek/pycharm/trichotomy/importantmodels/cxr8_diffusionmodels/baseline-runs/cxr8_pseudocond/network-snapshot-0050331-0.100.pkl ...\n"
     ]
    },
    {
     "name": "stderr",
     "output_type": "stream",
     "text": [
      "/tmp/ipykernel_1468074/2998257040.py:147: FutureWarning: You are using `torch.load` with `weights_only=False` (the current default value), which uses the default pickle module implicitly. It is possible to construct malicious pickle data which will execute arbitrary code during unpickling (See https://github.com/pytorch/pytorch/blob/main/SECURITY.md#untrusted-models for more details). In a future release, the default value for `weights_only` will be flipped to `True`. This limits the functions that could be executed during unpickling. Arbitrary objects will no longer be allowed to be loaded via this mode unless they are explicitly allowlisted by the user via `torch.serialization.add_safe_globals`. We recommend you start setting `weights_only=True` for any use case where you don't have full control of the loaded file. Please open an issue on GitHub for any issues related to this experimental feature.\n",
      "  net.load_state_dict(torch.load(model_weights)[\"net\"])\n"
     ]
    },
    {
     "name": "stdout",
     "output_type": "stream",
     "text": [
      "Encoder was initilized with {'vae_name': 'stabilityai/stable-diffusion-2', 'encoder_norm_mode': 'cxr8'}\n",
      "Loading guidance network from /vol/ideadata/ed52egek/pycharm/trichotomy/importantmodels/cxr8_diffusionmodels/baseline-runs/cxr8_uncond/network-snapshot-0008388-0.050.pkl ...\n"
     ]
    },
    {
     "name": "stderr",
     "output_type": "stream",
     "text": [
      "/tmp/ipykernel_1468074/2998257040.py:162: FutureWarning: You are using `torch.load` with `weights_only=False` (the current default value), which uses the default pickle module implicitly. It is possible to construct malicious pickle data which will execute arbitrary code during unpickling (See https://github.com/pytorch/pytorch/blob/main/SECURITY.md#untrusted-models for more details). In a future release, the default value for `weights_only` will be flipped to `True`. This limits the functions that could be executed during unpickling. Arbitrary objects will no longer be allowed to be loaded via this mode unless they are explicitly allowlisted by the user via `torch.serialization.add_safe_globals`. We recommend you start setting `weights_only=True` for any use case where you don't have full control of the loaded file. Please open an issue on GitHub for any issues related to this experimental feature.\n",
      "  gnet.load_state_dict(torch.load(gmodel_weights)[\"net\"])\n"
     ]
    },
    {
     "name": "stdout",
     "output_type": "stream",
     "text": [
      "Setting up StabilityVAEEncoder...\n",
      "Saving images to ./eval_diadm/DiADM/No_Finding\n",
      "Sampler kwargs\n",
      "{'autoguidance': True, 'guidance': 1.4}\n"
     ]
    },
    {
     "name": "stderr",
     "output_type": "stream",
     "text": [
      "Generating No Finding images: 100%|██████████| 3/3 [00:36<00:00, 12.30s/batch]\n"
     ]
    },
    {
     "name": "stdout",
     "output_type": "stream",
     "text": [
      "Saving images to ./eval_diadm/DiADM/Atelectasis\n",
      "Sampler kwargs\n",
      "{'autoguidance': True, 'guidance': 1.4}\n"
     ]
    },
    {
     "name": "stderr",
     "output_type": "stream",
     "text": [
      "Generating Atelectasis images: 100%|██████████| 3/3 [00:37<00:00, 12.35s/batch]\n"
     ]
    },
    {
     "name": "stdout",
     "output_type": "stream",
     "text": [
      "Saving images to ./eval_diadm/DiADM/Cardiomegaly\n",
      "Sampler kwargs\n",
      "{'autoguidance': True, 'guidance': 1.4}\n"
     ]
    },
    {
     "name": "stderr",
     "output_type": "stream",
     "text": [
      "Generating Cardiomegaly images: 100%|██████████| 3/3 [00:37<00:00, 12.60s/batch]\n"
     ]
    },
    {
     "name": "stdout",
     "output_type": "stream",
     "text": [
      "Saving images to ./eval_diadm/DiADM/Consolidation\n",
      "Sampler kwargs\n",
      "{'autoguidance': True, 'guidance': 1.4}\n"
     ]
    },
    {
     "name": "stderr",
     "output_type": "stream",
     "text": [
      "Generating Consolidation images: 100%|██████████| 3/3 [00:36<00:00, 12.29s/batch]\n"
     ]
    },
    {
     "name": "stdout",
     "output_type": "stream",
     "text": [
      "Saving images to ./eval_diadm/DiADM/Edema\n",
      "Sampler kwargs\n",
      "{'autoguidance': True, 'guidance': 1.4}\n"
     ]
    },
    {
     "name": "stderr",
     "output_type": "stream",
     "text": [
      "Generating Edema images: 100%|██████████| 3/3 [00:36<00:00, 12.04s/batch]\n"
     ]
    },
    {
     "name": "stdout",
     "output_type": "stream",
     "text": [
      "Saving images to ./eval_diadm/DiADM/Pleural_Effusion\n",
      "Sampler kwargs\n",
      "{'autoguidance': True, 'guidance': 1.4}\n"
     ]
    },
    {
     "name": "stderr",
     "output_type": "stream",
     "text": [
      "Generating Pleural Effusion images: 100%|██████████| 3/3 [00:36<00:00, 12.00s/batch]\n"
     ]
    },
    {
     "name": "stdout",
     "output_type": "stream",
     "text": [
      "Saving images to ./eval_diadm/DiADM/Pneumonia\n",
      "Sampler kwargs\n",
      "{'autoguidance': True, 'guidance': 1.4}\n"
     ]
    },
    {
     "name": "stderr",
     "output_type": "stream",
     "text": [
      "Generating Pneumonia images: 100%|██████████| 3/3 [00:36<00:00, 12.14s/batch]\n"
     ]
    },
    {
     "name": "stdout",
     "output_type": "stream",
     "text": [
      "Saving images to ./eval_diadm/DiADM/Pneumothorax\n",
      "Sampler kwargs\n",
      "{'autoguidance': True, 'guidance': 1.4}\n"
     ]
    },
    {
     "name": "stderr",
     "output_type": "stream",
     "text": [
      "Generating Pneumothorax images: 100%|██████████| 3/3 [00:37<00:00, 12.60s/batch]\n"
     ]
    }
   ],
   "source": [
    "filelist = \"/vol/ideadata/ed52egek/pycharm/trichotomy/datasets/eight_cxr8_train.txt\" \n",
    "target_dir = \"eval_diadm\"\n",
    "mode = \"DiADM\"\n",
    "\n",
    "n_per_index = 16 #if ds_kwargs[\"cond_mode\"] == \"pseudocond\" else 1\n",
    "N=5# 95 # smallest (edema)\n",
    "class_labels_to_sample = class_labels\n",
    "model_kwargs = kwargs[mode][\"model_kwargs\"]\n",
    "ds_kwargs = kwargs[mode][\"ds_kwargs\"]\n",
    "model_kwargs[\"name\"] = mode\n",
    "print(\"=\"*80)\n",
    "print(\"Model kwargs:\")\n",
    "pprint(model_kwargs)\n",
    "print(\"Dataset kwargs:\")\n",
    "pprint(ds_kwargs)\n",
    "\n",
    "print(\"=\"*80)\n",
    "net, gnet, encoder =  get_image_generation_model(**model_kwargs)\n",
    "\n",
    "for class_idx, class_label in enumerate(class_labels_to_sample): \n",
    "    outdir = f\"./{target_dir}/{model_kwargs['name']}/{class_label.replace(' ', '_')}\"\n",
    "    print(f\"Saving images to {outdir}\")\n",
    "\n",
    "    dataset, indices = get_ds_and_indices(filelist=filelist, class_idx=class_idx, N=N,n_per_index=n_per_index, **ds_kwargs)\n",
    "\n",
    "    # indices are the indices of the dataset with certain calss \n",
    "    sampler_kwargs = {\"autoguidance\":kwargs[mode][\"autoguidance\"], \n",
    "                    \"guidance\":kwargs[mode][\"guidance\"], }\n",
    "\n",
    "    print(\"Sampler kwargs\")\n",
    "    pprint(sampler_kwargs)\n",
    "\n",
    "    image_iter = ImageIterable(train_ds=dataset, indices=indices, device=torch.device(\"cuda\"), net=net, sampler_fn=edm_sampler, gnet=gnet, encoder=encoder,outdir=outdir, sampler_kwargs=sampler_kwargs)\n",
    "    for r in tqdm.tqdm(image_iter, unit='batch', total=len(image_iter), desc=f\"Generating {class_label} images\"):\n",
    "        pass\n"
   ]
  },
  {
   "cell_type": "code",
   "execution_count": 41,
   "metadata": {},
   "outputs": [
    {
     "name": "stdout",
     "output_type": "stream",
     "text": [
      "[{'model_name': 'DiADM', 'class_name': 'No_Finding', 'real_image_name': '00000002_000.png', 'full_path': '/vol/ideadata/ed52egek/pycharm/trichotomy/notebooks/02_eval_synthetic/eval_diadm/DiADM/No_Finding/images/00000002_000_seed_0.png'}, {'model_name': 'DiADM', 'class_name': 'No_Finding', 'real_image_name': '00000002_000.png', 'full_path': '/vol/ideadata/ed52egek/pycharm/trichotomy/notebooks/02_eval_synthetic/eval_diadm/DiADM/No_Finding/images/00000002_000_seed_1.png'}, {'model_name': 'DiADM', 'class_name': 'No_Finding', 'real_image_name': '00000002_000.png', 'full_path': '/vol/ideadata/ed52egek/pycharm/trichotomy/notebooks/02_eval_synthetic/eval_diadm/DiADM/No_Finding/images/00000002_000_seed_2.png'}, {'model_name': 'DiADM', 'class_name': 'No_Finding', 'real_image_name': '00000002_000.png', 'full_path': '/vol/ideadata/ed52egek/pycharm/trichotomy/notebooks/02_eval_synthetic/eval_diadm/DiADM/No_Finding/images/00000002_000_seed_3.png'}, {'model_name': 'DiADM', 'class_name': 'No_Finding', 'real_image_name': '00000002_000.png', 'full_path': '/vol/ideadata/ed52egek/pycharm/trichotomy/notebooks/02_eval_synthetic/eval_diadm/DiADM/No_Finding/images/00000002_000_seed_4.png'}]\n"
     ]
    },
    {
     "data": {
      "text/plain": [
       "640"
      ]
     },
     "execution_count": 41,
     "metadata": {},
     "output_type": "execute_result"
    }
   ],
   "source": [
    "image_list_snth = SnthImageDataset(f\"/vol/ideadata/ed52egek/pycharm/trichotomy/notebooks/02_eval_synthetic/{target_dir}\", transform=transform)\n",
    "print(image_list_snth.image_list[:5])\n",
    "len(image_list_snth)\n"
   ]
  },
  {
   "cell_type": "code",
   "execution_count": 42,
   "metadata": {},
   "outputs": [
    {
     "name": "stderr",
     "output_type": "stream",
     "text": [
      "/tmp/ipykernel_1468074/2998257040.py:128: FutureWarning: You are using `torch.load` with `weights_only=False` (the current default value), which uses the default pickle module implicitly. It is possible to construct malicious pickle data which will execute arbitrary code during unpickling (See https://github.com/pytorch/pytorch/blob/main/SECURITY.md#untrusted-models for more details). In a future release, the default value for `weights_only` will be flipped to `True`. This limits the functions that could be executed during unpickling. Arbitrary objects will no longer be allowed to be loaded via this mode unless they are explicitly allowlisted by the user via `torch.serialization.add_safe_globals`. We recommend you start setting `weights_only=True` for any use case where you don't have full control of the loaded file. Please open an issue on GitHub for any issues related to this experimental feature.\n",
      "  net.load_state_dict(torch.load(path)[\"state_dict\"])\n",
      "/tmp/ipykernel_1468074/2998257040.py:67: FutureWarning: You are using `torch.load` with `weights_only=False` (the current default value), which uses the default pickle module implicitly. It is possible to construct malicious pickle data which will execute arbitrary code during unpickling (See https://github.com/pytorch/pytorch/blob/main/SECURITY.md#untrusted-models for more details). In a future release, the default value for `weights_only` will be flipped to `True`. This limits the functions that could be executed during unpickling. Arbitrary objects will no longer be allowed to be loaded via this mode unless they are explicitly allowlisted by the user via `torch.serialization.add_safe_globals`. We recommend you start setting `weights_only=True` for any use case where you don't have full control of the loaded file. Please open an issue on GitHub for any issues related to this experimental feature.\n",
      "  modelCheckpoint = torch.load(model_path)\n"
     ]
    }
   ],
   "source": [
    "from einops import repeat\n",
    "from torch.nn.functional import binary_cross_entropy\n",
    "DEFAULT_CLF_PATH =  \"/vol/ideadata/ed52egek/pycharm/trichotomy/importantmodels/results_chexnet_real/saved_models_cxr8/m-05122024-131940.pth.tar\"\n",
    "DEFAULT_PRIV_PATH = \"/vol/ideadata/ed52egek/pycharm/trichotomy/privacy/archive/Siamese_ResNet50_allcxr/Siamese_ResNet50_allcxr_checkpoint.pth\"\n",
    "\n",
    "\n",
    "class DiADMSampleEvaluator(): \n",
    "    def __init__(self, clf_path=DEFAULT_CLF_PATH, priv_path=DEFAULT_PRIV_PATH) -> None:\n",
    "        self.privnet = get_privacy_model(path=priv_path) if priv_path is not None else get_privacy_model()\n",
    "        self.privnet = self.privnet.to(\"cuda\")\n",
    "\n",
    "        self.clf_model = get_classification_model(clf_path)\n",
    "        self.clf_model = self.clf_model.to(\"cuda\")\n",
    "\n",
    "    def predict(self, batch): \n",
    "        # 0 - 1, size does not matter\n",
    "        # batch[0] is real image, \n",
    "        # batch[1:] are synthetic images\n",
    "\n",
    "        pred, f_clf = self.clf_model.lazy_foward(batch)\n",
    "        clf_pred_scores = binary_cross_entropy(repeat(pred[0], \"f -> b f\", b=len(pred[1:])), pred[1:], reduction='none')\n",
    "        clf_pred_scores = clf_pred_scores.mean(dim=1)\n",
    "\n",
    "        real = repeat(batch[0], \"c h w -> b c h w\", b=len(batch[1:]))\n",
    "        snth = batch[1:]\n",
    "\n",
    "        priv_pred = self.privnet.lazy_pred(real, snth)\n",
    "        return clf_pred_scores, priv_pred.squeeze()\n",
    "\n",
    "\n",
    "dse = DiADMSampleEvaluator()"
   ]
  },
  {
   "cell_type": "code",
   "execution_count": null,
   "metadata": {},
   "outputs": [],
   "source": [
    "def open_real_image(path, transform, root_dir=\"/vol/ideadata/ed52egek/data/chestxray14\"): \n",
    "    full_path = os.path.join(root_dir, os.path.join(\"images\", path))\n",
    "    image = Image.open(full_path).convert('RGB')\n",
    "    image = transform(image)\n",
    "    return image\n",
    "\n",
    "\n",
    "def get_scores(dataloader):\n",
    "\n",
    "    mem_rates = []\n",
    "    best_mem_scores = []\n",
    "    for data in tqdm.tqdm(dataloader):\n",
    "        real_image_name = data[\"real_image_name\"][0]\n",
    "        assert real_image_name == data[\"real_image_name\"][-1]\n",
    "        real = open_real_image(real_image_name, transform)\n",
    "\n",
    "        data_in = torch.cat([real.unsqueeze(dim=0), data[\"image\"]])\n",
    "        # 0-1; not resized\n",
    "\n",
    "        clf_pred_scores, priv_pred = dse.predict(data_in)\n",
    "\n",
    "        # compute memorization rates and bce \n",
    "        memorization_rate = priv_pred.cpu().float().mean()\n",
    "        best_non_mem_score = (clf_pred_scores + priv_pred).cpu().min().clip(0, 1) #  1 means memorization\n",
    "        mem_rates.append(memorization_rate)\n",
    "        best_mem_scores.append(best_non_mem_score)\n",
    "\n",
    "    return mem_rates, best_mem_scores\n",
    "\n",
    "dataloader = DataLoader(image_list_snth, batch_size=n_per_index, shuffle=False, num_workers=4)\n",
    "mem_rates, best_mem_scores = get_scores(dataloader)\n",
    "\n",
    "plt.scatter(best_mem_scores, mem_rates)\n",
    "plt.title(f\"Guidance: {1.4}\")\n",
    "plt.show()"
   ]
  },
  {
   "cell_type": "code",
   "execution_count": null,
   "metadata": {},
   "outputs": [],
   "source": [
    "def vary_guidance(guidance): \n",
    "    filelist = \"/vol/ideadata/ed52egek/pycharm/trichotomy/datasets/eight_cxr8_train.txt\" \n",
    "    target_dir = f\"eval_diadm_{guidance}\"\n",
    "    mode = \"DiADM\"\n",
    "\n",
    "    n_per_index = 16 #if ds_kwargs[\"cond_mode\"] == \"pseudocond\" else 1\n",
    "    N=5# 95 # smallest (edema)\n",
    "    class_labels_to_sample = class_labels\n",
    "    model_kwargs = kwargs[mode][\"model_kwargs\"]\n",
    "    ds_kwargs = kwargs[mode][\"ds_kwargs\"]\n",
    "    model_kwargs[\"name\"] = mode\n",
    "    print(\"=\"*80)\n",
    "    print(\"Model kwargs:\")\n",
    "    pprint(model_kwargs)\n",
    "    print(\"Dataset kwargs:\")\n",
    "    pprint(ds_kwargs)\n",
    "\n",
    "    print(\"=\"*80)\n",
    "    net, gnet, encoder =  get_image_generation_model(**model_kwargs)\n",
    "\n",
    "    if not os.path.exists(target_dir):\n",
    "        for class_idx, class_label in enumerate(class_labels_to_sample): \n",
    "            outdir = f\"./{target_dir}/{model_kwargs['name']}/{class_label.replace(' ', '_')}\"\n",
    "            print(f\"Saving images to {outdir}\")\n",
    "\n",
    "            dataset, indices = get_ds_and_indices(filelist=filelist, class_idx=class_idx, N=N,n_per_index=n_per_index, **ds_kwargs)\n",
    "\n",
    "            # indices are the indices of the dataset with certain calss \n",
    "            sampler_kwargs = {\"autoguidance\":kwargs[mode][\"autoguidance\"], \n",
    "                            \"guidance\":guidance, }\n",
    "\n",
    "            print(\"Sampler kwargs\")\n",
    "            pprint(sampler_kwargs)\n",
    "\n",
    "            image_iter = ImageIterable(train_ds=dataset, indices=indices, device=torch.device(\"cuda\"), net=net, sampler_fn=edm_sampler, gnet=gnet, encoder=encoder,outdir=outdir, sampler_kwargs=sampler_kwargs)\n",
    "            for r in tqdm.tqdm(image_iter, unit='batch', total=len(image_iter), desc=f\"Generating {class_label} images\"):\n",
    "                pass\n",
    "\n",
    "\n",
    "    image_list_snth = SnthImageDataset(f\"/vol/ideadata/ed52egek/pycharm/trichotomy/notebooks/02_eval_synthetic/{target_dir}\", transform=transform)\n",
    "    print(image_list_snth.image_list[:5])\n",
    "    len(image_list_snth)\n",
    "\n",
    "    dataloader = DataLoader(image_list_snth, batch_size=n_per_index, shuffle=False, num_workers=4)\n",
    "    mem_rates, best_mem_scores = get_scores(dataloader)\n",
    "\n",
    "    plt.xlim(0, 1)\n",
    "    plt.ylim(0, 1)\n",
    "    plt.scatter(best_mem_scores, mem_rates)\n",
    "    plt.title(f\"Guidance: {guidance}\")\n",
    "    plt.savefig(f\"guidance_{guidance}.pdf\")\n",
    "    plt.show()\n",
    "    \n",
    "\n",
    "vary_guidance(1.4)\n",
    "vary_guidance(2.0)\n",
    "vary_guidance(4.0)\n",
    "\n"
   ]
  },
  {
   "cell_type": "markdown",
   "metadata": {},
   "source": [
    "# Compare scores of privacy breaking and non privacy breaking images "
   ]
  },
  {
   "cell_type": "code",
   "execution_count": 70,
   "metadata": {},
   "outputs": [
    {
     "name": "stderr",
     "output_type": "stream",
     "text": [
      "  0%|          | 0/40 [00:00<?, ?it/s]"
     ]
    },
    {
     "name": "stderr",
     "output_type": "stream",
     "text": [
      "100%|██████████| 40/40 [00:05<00:00,  7.66it/s]\n"
     ]
    }
   ],
   "source": [
    "def get_scores_samplewise(dataloader):\n",
    "\n",
    "    mem_rates = []\n",
    "    best_mem_scores = []\n",
    "    for data in tqdm.tqdm(dataloader):\n",
    "        real_image_name = data[\"real_image_name\"][0]\n",
    "        assert real_image_name == data[\"real_image_name\"][-1]\n",
    "        real = open_real_image(real_image_name, transform)\n",
    "\n",
    "        data_in = torch.cat([real.unsqueeze(dim=0), data[\"image\"]])\n",
    "        # 0-1; not resized\n",
    "\n",
    "        clf_pred_scores, priv_pred = dse.predict(data_in)\n",
    "\n",
    "        # compute memorization rates and bce \n",
    "        memorization_rate = priv_pred.cpu().float()\n",
    "        best_non_mem_score = (clf_pred_scores).cpu().clip(0, 1) #  1 means memorization\n",
    "        mem_rates.extend(memorization_rate)\n",
    "        best_mem_scores.append(best_non_mem_score)\n",
    "\n",
    "    return mem_rates, best_mem_scores\n",
    "\n",
    "target_dir = \"eval_diadm_1.4\"\n",
    "image_list_snth = SnthImageDataset(f\"/vol/ideadata/ed52egek/pycharm/trichotomy/notebooks/02_eval_synthetic/{target_dir}\", transform=transform)\n",
    "\n",
    "dataloader = DataLoader(image_list_snth, batch_size=n_per_index, shuffle=False, num_workers=4)\n",
    "mem, bce = get_scores_samplewise(dataloader)\n",
    "mem = [m.item() for m in mem]\n",
    "bce = torch.cat(bce)\n"
   ]
  },
  {
   "cell_type": "code",
   "execution_count": 73,
   "metadata": {},
   "outputs": [],
   "source": [
    "#memorized = torch.tensor(bce)\n",
    "memorized = bce[[m == 1 for m in mem]]\n",
    "non_memorized = bce[[m == 0 for m in mem]]"
   ]
  },
  {
   "cell_type": "code",
   "execution_count": 77,
   "metadata": {},
   "outputs": [
    {
     "name": "stdout",
     "output_type": "stream",
     "text": [
      "Mean memorized: 0.2479\n",
      "Mean not memorized: 0.2481\n"
     ]
    },
    {
     "data": {
      "image/png": "[encoded data removed]",
      "text/plain": [
       "<Figure size 1000x600 with 1 Axes>"
      ]
     },
     "metadata": {},
     "output_type": "display_data"
    }
   ],
   "source": [
    "# Calculate and print mean values\n",
    "print(f\"Mean memorized: {memorized.mean():.4f}\")\n",
    "print(f\"Mean not memorized: {non_memorized.mean():.4f}\")\n",
    "\n",
    "# Labels for the legend\n",
    "labels = [\"Memorized\", \"Not Memorized\"]\n",
    "\n",
    "# Set up the figure\n",
    "plt.figure(figsize=(10, 6))  # Increased size for better visibility\n",
    "\n",
    "# Define bins explicitly (adjust range and step as needed)\n",
    "bin_edges = np.linspace(min(memorized.min(), non_memorized.min()), \n",
    "                        max(memorized.max(), non_memorized.max()), \n",
    "                        30)  # 30 bins\n",
    "\n",
    "# Plot histograms with predefined bins\n",
    "sns.histplot(\n",
    "    memorized, kde=True, label=labels[0], stat=\"density\",\n",
    "    bins=bin_edges, alpha=0.5, color=\"blue\", edgecolor=\"black\"\n",
    ")\n",
    "sns.histplot(\n",
    "    non_memorized, kde=True, label=labels[1], stat=\"density\",\n",
    "    bins=bin_edges, alpha=0.5, color=\"orange\", edgecolor=\"black\"\n",
    ")\n",
    "\n",
    "\n",
    "# Add gridlines\n",
    "plt.grid(visible=True, linestyle=\"--\", alpha=0.7)\n",
    "\n",
    "# Labels and title with larger font size\n",
    "plt.xlabel(\"Loss Values - BCE\", fontsize=14)\n",
    "plt.ylabel(\"Density\", fontsize=14)\n",
    "plt.title(\"Histogram and KDE of Loss Distributions\", fontsize=16, fontweight=\"bold\")\n",
    "\n",
    "# Adjust ticks for better visibility\n",
    "plt.xticks(fontsize=12)\n",
    "plt.yticks(fontsize=12)\n",
    "\n",
    "# Adjust the legend\n",
    "plt.legend(title=\"Privacy Model Prediction\", fontsize=12, title_fontsize=14, loc=\"upper right\", frameon=True)\n",
    "\n",
    "# Add a log scale option for the x-axis (optional, uncomment if needed)\n",
    "# plt.xscale('log')\n",
    "\n",
    "# Save the plot\n",
    "plt.savefig(\"kde_memorized_vs_non_memorized.pdf\", bbox_inches=\"tight\", dpi=300)\n",
    "\n",
    "# Show the plot\n",
    "plt.show()"
   ]
  }
 ],
 "metadata": {
  "kernelspec": {
   "display_name": "trichotomy",
   "language": "python",
   "name": "python3"
  },
  "language_info": {
   "codemirror_mode": {
    "name": "ipython",
    "version": 3
   },
   "file_extension": ".py",
   "mimetype": "text/x-python",
   "name": "python",
   "nbconvert_exporter": "python",
   "pygments_lexer": "ipython3",
   "version": "3.12.8"
  }
 },
 "nbformat": 4,
 "nbformat_minor": 2
}
